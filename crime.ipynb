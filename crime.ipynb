{
 "cells": [
  {
   "cell_type": "code",
   "execution_count": 1,
   "id": "9fd71840-423d-4efa-b858-854f31f6f32e",
   "metadata": {},
   "outputs": [],
   "source": [
    "import pandas as pd\n",
    "import numpy as np\n",
    "import seaborn as sns\n",
    "import matplotlib.pyplot as plt\n",
    "%matplotlib inline"
   ]
  },
  {
   "cell_type": "code",
   "execution_count": 5,
   "id": "6cb04263-8147-4590-825b-60880e9737de",
   "metadata": {},
   "outputs": [],
   "source": [
    "df=pd.read_csv(\"C:/Users/pravalika goud k/OneDrive/Desktop/projects/CRIMES NEW/DISTRICT_WISE_CRIMES_INDIA_DATASET.csv\")"
   ]
  },
  {
   "cell_type": "code",
   "execution_count": 6,
   "id": "39d24d35-5d9c-42d5-bdc4-74414727cb89",
   "metadata": {},
   "outputs": [
    {
     "data": {
      "text/html": [
       "<div>\n",
       "<style scoped>\n",
       "    .dataframe tbody tr th:only-of-type {\n",
       "        vertical-align: middle;\n",
       "    }\n",
       "\n",
       "    .dataframe tbody tr th {\n",
       "        vertical-align: top;\n",
       "    }\n",
       "\n",
       "    .dataframe thead th {\n",
       "        text-align: right;\n",
       "    }\n",
       "</style>\n",
       "<table border=\"1\" class=\"dataframe\">\n",
       "  <thead>\n",
       "    <tr style=\"text-align: right;\">\n",
       "      <th></th>\n",
       "      <th>STATE/UT</th>\n",
       "      <th>DISTRICT</th>\n",
       "      <th>YEAR</th>\n",
       "      <th>MURDER</th>\n",
       "      <th>ATTEMPT TO MURDER</th>\n",
       "      <th>CULPABLE HOMICIDE NOT AMOUNTING TO MURDER</th>\n",
       "      <th>RAPE</th>\n",
       "      <th>CUSTODIAL RAPE</th>\n",
       "      <th>OTHER RAPE</th>\n",
       "      <th>KIDNAPPING &amp; ABDUCTION</th>\n",
       "      <th>...</th>\n",
       "      <th>ARSON</th>\n",
       "      <th>HURT/GREVIOUS HURT</th>\n",
       "      <th>DOWRY DEATHS</th>\n",
       "      <th>ASSAULT ON WOMEN WITH INTENT TO OUTRAGE HER MODESTY</th>\n",
       "      <th>INSULT TO MODESTY OF WOMEN</th>\n",
       "      <th>CRUELTY BY HUSBAND OR HIS RELATIVES</th>\n",
       "      <th>IMPORTATION OF GIRLS FROM FOREIGN COUNTRIES</th>\n",
       "      <th>CAUSING DEATH BY NEGLIGENCE</th>\n",
       "      <th>OTHER IPC CRIMES</th>\n",
       "      <th>TOTAL IPC CRIMES</th>\n",
       "    </tr>\n",
       "  </thead>\n",
       "  <tbody>\n",
       "    <tr>\n",
       "      <th>0</th>\n",
       "      <td>ANDHRA PRADESH</td>\n",
       "      <td>ADILABAD</td>\n",
       "      <td>2001</td>\n",
       "      <td>101</td>\n",
       "      <td>60</td>\n",
       "      <td>17</td>\n",
       "      <td>50</td>\n",
       "      <td>0</td>\n",
       "      <td>50</td>\n",
       "      <td>46</td>\n",
       "      <td>...</td>\n",
       "      <td>30</td>\n",
       "      <td>1131</td>\n",
       "      <td>16</td>\n",
       "      <td>149</td>\n",
       "      <td>34</td>\n",
       "      <td>175</td>\n",
       "      <td>0</td>\n",
       "      <td>181</td>\n",
       "      <td>1518</td>\n",
       "      <td>4154</td>\n",
       "    </tr>\n",
       "    <tr>\n",
       "      <th>1</th>\n",
       "      <td>ANDHRA PRADESH</td>\n",
       "      <td>ANANTAPUR</td>\n",
       "      <td>2001</td>\n",
       "      <td>151</td>\n",
       "      <td>125</td>\n",
       "      <td>1</td>\n",
       "      <td>23</td>\n",
       "      <td>0</td>\n",
       "      <td>23</td>\n",
       "      <td>53</td>\n",
       "      <td>...</td>\n",
       "      <td>69</td>\n",
       "      <td>1543</td>\n",
       "      <td>7</td>\n",
       "      <td>118</td>\n",
       "      <td>24</td>\n",
       "      <td>154</td>\n",
       "      <td>0</td>\n",
       "      <td>270</td>\n",
       "      <td>754</td>\n",
       "      <td>4125</td>\n",
       "    </tr>\n",
       "    <tr>\n",
       "      <th>2</th>\n",
       "      <td>ANDHRA PRADESH</td>\n",
       "      <td>CHITTOOR</td>\n",
       "      <td>2001</td>\n",
       "      <td>101</td>\n",
       "      <td>57</td>\n",
       "      <td>2</td>\n",
       "      <td>27</td>\n",
       "      <td>0</td>\n",
       "      <td>27</td>\n",
       "      <td>59</td>\n",
       "      <td>...</td>\n",
       "      <td>38</td>\n",
       "      <td>2088</td>\n",
       "      <td>14</td>\n",
       "      <td>112</td>\n",
       "      <td>83</td>\n",
       "      <td>186</td>\n",
       "      <td>0</td>\n",
       "      <td>404</td>\n",
       "      <td>1262</td>\n",
       "      <td>5818</td>\n",
       "    </tr>\n",
       "    <tr>\n",
       "      <th>3</th>\n",
       "      <td>ANDHRA PRADESH</td>\n",
       "      <td>CUDDAPAH</td>\n",
       "      <td>2001</td>\n",
       "      <td>80</td>\n",
       "      <td>53</td>\n",
       "      <td>1</td>\n",
       "      <td>20</td>\n",
       "      <td>0</td>\n",
       "      <td>20</td>\n",
       "      <td>25</td>\n",
       "      <td>...</td>\n",
       "      <td>23</td>\n",
       "      <td>795</td>\n",
       "      <td>17</td>\n",
       "      <td>126</td>\n",
       "      <td>38</td>\n",
       "      <td>57</td>\n",
       "      <td>0</td>\n",
       "      <td>233</td>\n",
       "      <td>1181</td>\n",
       "      <td>3140</td>\n",
       "    </tr>\n",
       "    <tr>\n",
       "      <th>4</th>\n",
       "      <td>ANDHRA PRADESH</td>\n",
       "      <td>EAST GODAVARI</td>\n",
       "      <td>2001</td>\n",
       "      <td>82</td>\n",
       "      <td>67</td>\n",
       "      <td>1</td>\n",
       "      <td>23</td>\n",
       "      <td>0</td>\n",
       "      <td>23</td>\n",
       "      <td>49</td>\n",
       "      <td>...</td>\n",
       "      <td>41</td>\n",
       "      <td>1244</td>\n",
       "      <td>12</td>\n",
       "      <td>109</td>\n",
       "      <td>58</td>\n",
       "      <td>247</td>\n",
       "      <td>0</td>\n",
       "      <td>431</td>\n",
       "      <td>2313</td>\n",
       "      <td>6507</td>\n",
       "    </tr>\n",
       "  </tbody>\n",
       "</table>\n",
       "<p>5 rows × 33 columns</p>\n",
       "</div>"
      ],
      "text/plain": [
       "         STATE/UT       DISTRICT  YEAR  MURDER  ATTEMPT TO MURDER  \\\n",
       "0  ANDHRA PRADESH       ADILABAD  2001     101                 60   \n",
       "1  ANDHRA PRADESH      ANANTAPUR  2001     151                125   \n",
       "2  ANDHRA PRADESH       CHITTOOR  2001     101                 57   \n",
       "3  ANDHRA PRADESH       CUDDAPAH  2001      80                 53   \n",
       "4  ANDHRA PRADESH  EAST GODAVARI  2001      82                 67   \n",
       "\n",
       "   CULPABLE HOMICIDE NOT AMOUNTING TO MURDER  RAPE  CUSTODIAL RAPE  \\\n",
       "0                                         17    50               0   \n",
       "1                                          1    23               0   \n",
       "2                                          2    27               0   \n",
       "3                                          1    20               0   \n",
       "4                                          1    23               0   \n",
       "\n",
       "   OTHER RAPE  KIDNAPPING & ABDUCTION  ...  ARSON  HURT/GREVIOUS HURT  \\\n",
       "0          50                      46  ...     30                1131   \n",
       "1          23                      53  ...     69                1543   \n",
       "2          27                      59  ...     38                2088   \n",
       "3          20                      25  ...     23                 795   \n",
       "4          23                      49  ...     41                1244   \n",
       "\n",
       "   DOWRY DEATHS  ASSAULT ON WOMEN WITH INTENT TO OUTRAGE HER MODESTY  \\\n",
       "0            16                                                149     \n",
       "1             7                                                118     \n",
       "2            14                                                112     \n",
       "3            17                                                126     \n",
       "4            12                                                109     \n",
       "\n",
       "   INSULT TO MODESTY OF WOMEN  CRUELTY BY HUSBAND OR HIS RELATIVES  \\\n",
       "0                          34                                  175   \n",
       "1                          24                                  154   \n",
       "2                          83                                  186   \n",
       "3                          38                                   57   \n",
       "4                          58                                  247   \n",
       "\n",
       "   IMPORTATION OF GIRLS FROM FOREIGN COUNTRIES  CAUSING DEATH BY NEGLIGENCE  \\\n",
       "0                                            0                          181   \n",
       "1                                            0                          270   \n",
       "2                                            0                          404   \n",
       "3                                            0                          233   \n",
       "4                                            0                          431   \n",
       "\n",
       "   OTHER IPC CRIMES  TOTAL IPC CRIMES  \n",
       "0              1518              4154  \n",
       "1               754              4125  \n",
       "2              1262              5818  \n",
       "3              1181              3140  \n",
       "4              2313              6507  \n",
       "\n",
       "[5 rows x 33 columns]"
      ]
     },
     "execution_count": 6,
     "metadata": {},
     "output_type": "execute_result"
    }
   ],
   "source": [
    "df.head()"
   ]
  },
  {
   "cell_type": "markdown",
   "id": "f163d455-cb33-43ce-b7e3-d09b6e61cb86",
   "metadata": {},
   "source": [
    "# Data cleaning"
   ]
  },
  {
   "cell_type": "code",
   "execution_count": 7,
   "id": "3fb83f6a-1ed3-4528-b33f-d443c5cd9053",
   "metadata": {},
   "outputs": [
    {
     "data": {
      "text/plain": [
       "STATE/UT                                               0\n",
       "DISTRICT                                               0\n",
       "YEAR                                                   0\n",
       "MURDER                                                 0\n",
       "ATTEMPT TO MURDER                                      0\n",
       "CULPABLE HOMICIDE NOT AMOUNTING TO MURDER              0\n",
       "RAPE                                                   0\n",
       "CUSTODIAL RAPE                                         0\n",
       "OTHER RAPE                                             0\n",
       "KIDNAPPING & ABDUCTION                                 0\n",
       "KIDNAPPING AND ABDUCTION OF WOMEN AND GIRLS            0\n",
       "KIDNAPPING AND ABDUCTION OF OTHERS                     0\n",
       "DACOITY                                                0\n",
       "PREPARATION AND ASSEMBLY FOR DACOITY                   0\n",
       "ROBBERY                                                0\n",
       "BURGLARY                                               0\n",
       "THEFT                                                  0\n",
       "AUTO THEFT                                             0\n",
       "OTHER THEFT                                            0\n",
       "RIOTS                                                  0\n",
       "CRIMINAL BREACH OF TRUST                               0\n",
       "CHEATING                                               0\n",
       "COUNTERFIETING                                         0\n",
       "ARSON                                                  0\n",
       "HURT/GREVIOUS HURT                                     0\n",
       "DOWRY DEATHS                                           0\n",
       "ASSAULT ON WOMEN WITH INTENT TO OUTRAGE HER MODESTY    0\n",
       "INSULT TO MODESTY OF WOMEN                             0\n",
       "CRUELTY BY HUSBAND OR HIS RELATIVES                    0\n",
       "IMPORTATION OF GIRLS FROM FOREIGN COUNTRIES            0\n",
       "CAUSING DEATH BY NEGLIGENCE                            0\n",
       "OTHER IPC CRIMES                                       0\n",
       "TOTAL IPC CRIMES                                       0\n",
       "dtype: int64"
      ]
     },
     "execution_count": 7,
     "metadata": {},
     "output_type": "execute_result"
    }
   ],
   "source": [
    "df.isnull().sum()"
   ]
  },
  {
   "cell_type": "code",
   "execution_count": 8,
   "id": "7f635a65-991f-4fac-b667-68840db74715",
   "metadata": {},
   "outputs": [
    {
     "name": "stdout",
     "output_type": "stream",
     "text": [
      "<class 'pandas.core.frame.DataFrame'>\n",
      "RangeIndex: 9017 entries, 0 to 9016\n",
      "Data columns (total 33 columns):\n",
      " #   Column                                               Non-Null Count  Dtype \n",
      "---  ------                                               --------------  ----- \n",
      " 0   STATE/UT                                             9017 non-null   object\n",
      " 1   DISTRICT                                             9017 non-null   object\n",
      " 2   YEAR                                                 9017 non-null   int64 \n",
      " 3   MURDER                                               9017 non-null   int64 \n",
      " 4   ATTEMPT TO MURDER                                    9017 non-null   int64 \n",
      " 5   CULPABLE HOMICIDE NOT AMOUNTING TO MURDER            9017 non-null   int64 \n",
      " 6   RAPE                                                 9017 non-null   int64 \n",
      " 7   CUSTODIAL RAPE                                       9017 non-null   int64 \n",
      " 8   OTHER RAPE                                           9017 non-null   int64 \n",
      " 9   KIDNAPPING & ABDUCTION                               9017 non-null   int64 \n",
      " 10  KIDNAPPING AND ABDUCTION OF WOMEN AND GIRLS          9017 non-null   int64 \n",
      " 11  KIDNAPPING AND ABDUCTION OF OTHERS                   9017 non-null   int64 \n",
      " 12  DACOITY                                              9017 non-null   int64 \n",
      " 13  PREPARATION AND ASSEMBLY FOR DACOITY                 9017 non-null   int64 \n",
      " 14  ROBBERY                                              9017 non-null   int64 \n",
      " 15  BURGLARY                                             9017 non-null   int64 \n",
      " 16  THEFT                                                9017 non-null   int64 \n",
      " 17  AUTO THEFT                                           9017 non-null   int64 \n",
      " 18  OTHER THEFT                                          9017 non-null   int64 \n",
      " 19  RIOTS                                                9017 non-null   int64 \n",
      " 20  CRIMINAL BREACH OF TRUST                             9017 non-null   int64 \n",
      " 21  CHEATING                                             9017 non-null   int64 \n",
      " 22  COUNTERFIETING                                       9017 non-null   int64 \n",
      " 23  ARSON                                                9017 non-null   int64 \n",
      " 24  HURT/GREVIOUS HURT                                   9017 non-null   int64 \n",
      " 25  DOWRY DEATHS                                         9017 non-null   int64 \n",
      " 26  ASSAULT ON WOMEN WITH INTENT TO OUTRAGE HER MODESTY  9017 non-null   int64 \n",
      " 27  INSULT TO MODESTY OF WOMEN                           9017 non-null   int64 \n",
      " 28  CRUELTY BY HUSBAND OR HIS RELATIVES                  9017 non-null   int64 \n",
      " 29  IMPORTATION OF GIRLS FROM FOREIGN COUNTRIES          9017 non-null   int64 \n",
      " 30  CAUSING DEATH BY NEGLIGENCE                          9017 non-null   int64 \n",
      " 31  OTHER IPC CRIMES                                     9017 non-null   int64 \n",
      " 32  TOTAL IPC CRIMES                                     9017 non-null   int64 \n",
      "dtypes: int64(31), object(2)\n",
      "memory usage: 2.3+ MB\n"
     ]
    }
   ],
   "source": [
    "df.info()"
   ]
  },
  {
   "cell_type": "code",
   "execution_count": 9,
   "id": "f650f60b-4e77-4a3e-944f-46d1bdf80715",
   "metadata": {},
   "outputs": [
    {
     "data": {
      "text/plain": [
       "Index(['STATE/UT', 'DISTRICT', 'YEAR', 'MURDER', 'ATTEMPT TO MURDER',\n",
       "       'CULPABLE HOMICIDE NOT AMOUNTING TO MURDER', 'RAPE', 'CUSTODIAL RAPE',\n",
       "       'OTHER RAPE', 'KIDNAPPING & ABDUCTION',\n",
       "       'KIDNAPPING AND ABDUCTION OF WOMEN AND GIRLS',\n",
       "       'KIDNAPPING AND ABDUCTION OF OTHERS', 'DACOITY',\n",
       "       'PREPARATION AND ASSEMBLY FOR DACOITY', 'ROBBERY', 'BURGLARY', 'THEFT',\n",
       "       'AUTO THEFT', 'OTHER THEFT', 'RIOTS', 'CRIMINAL BREACH OF TRUST',\n",
       "       'CHEATING', 'COUNTERFIETING', 'ARSON', 'HURT/GREVIOUS HURT',\n",
       "       'DOWRY DEATHS', 'ASSAULT ON WOMEN WITH INTENT TO OUTRAGE HER MODESTY',\n",
       "       'INSULT TO MODESTY OF WOMEN', 'CRUELTY BY HUSBAND OR HIS RELATIVES',\n",
       "       'IMPORTATION OF GIRLS FROM FOREIGN COUNTRIES',\n",
       "       'CAUSING DEATH BY NEGLIGENCE', 'OTHER IPC CRIMES', 'TOTAL IPC CRIMES'],\n",
       "      dtype='object')"
      ]
     },
     "execution_count": 9,
     "metadata": {},
     "output_type": "execute_result"
    }
   ],
   "source": [
    "df.columns"
   ]
  },
  {
   "cell_type": "code",
   "execution_count": 10,
   "id": "c45e2f7c-c60d-49d3-819c-4b7182313567",
   "metadata": {},
   "outputs": [
    {
     "data": {
      "text/html": [
       "<div>\n",
       "<style scoped>\n",
       "    .dataframe tbody tr th:only-of-type {\n",
       "        vertical-align: middle;\n",
       "    }\n",
       "\n",
       "    .dataframe tbody tr th {\n",
       "        vertical-align: top;\n",
       "    }\n",
       "\n",
       "    .dataframe thead th {\n",
       "        text-align: right;\n",
       "    }\n",
       "</style>\n",
       "<table border=\"1\" class=\"dataframe\">\n",
       "  <thead>\n",
       "    <tr style=\"text-align: right;\">\n",
       "      <th></th>\n",
       "      <th>YEAR</th>\n",
       "      <th>MURDER</th>\n",
       "      <th>ATTEMPT TO MURDER</th>\n",
       "      <th>CULPABLE HOMICIDE NOT AMOUNTING TO MURDER</th>\n",
       "      <th>RAPE</th>\n",
       "      <th>CUSTODIAL RAPE</th>\n",
       "      <th>OTHER RAPE</th>\n",
       "      <th>KIDNAPPING &amp; ABDUCTION</th>\n",
       "      <th>KIDNAPPING AND ABDUCTION OF WOMEN AND GIRLS</th>\n",
       "      <th>KIDNAPPING AND ABDUCTION OF OTHERS</th>\n",
       "      <th>...</th>\n",
       "      <th>ARSON</th>\n",
       "      <th>HURT/GREVIOUS HURT</th>\n",
       "      <th>DOWRY DEATHS</th>\n",
       "      <th>ASSAULT ON WOMEN WITH INTENT TO OUTRAGE HER MODESTY</th>\n",
       "      <th>INSULT TO MODESTY OF WOMEN</th>\n",
       "      <th>CRUELTY BY HUSBAND OR HIS RELATIVES</th>\n",
       "      <th>IMPORTATION OF GIRLS FROM FOREIGN COUNTRIES</th>\n",
       "      <th>CAUSING DEATH BY NEGLIGENCE</th>\n",
       "      <th>OTHER IPC CRIMES</th>\n",
       "      <th>TOTAL IPC CRIMES</th>\n",
       "    </tr>\n",
       "  </thead>\n",
       "  <tbody>\n",
       "    <tr>\n",
       "      <th>count</th>\n",
       "      <td>9017.000000</td>\n",
       "      <td>9017.00000</td>\n",
       "      <td>9017.000000</td>\n",
       "      <td>9017.000000</td>\n",
       "      <td>9017.000000</td>\n",
       "      <td>9017.000000</td>\n",
       "      <td>9017.000000</td>\n",
       "      <td>9017.000000</td>\n",
       "      <td>9017.000000</td>\n",
       "      <td>9017.000000</td>\n",
       "      <td>...</td>\n",
       "      <td>9017.000000</td>\n",
       "      <td>9017.000000</td>\n",
       "      <td>9017.000000</td>\n",
       "      <td>9017.000000</td>\n",
       "      <td>9017.000000</td>\n",
       "      <td>9017.000000</td>\n",
       "      <td>9017.000000</td>\n",
       "      <td>9017.000000</td>\n",
       "      <td>9017.000000</td>\n",
       "      <td>9017.000000</td>\n",
       "    </tr>\n",
       "    <tr>\n",
       "      <th>mean</th>\n",
       "      <td>2006.629034</td>\n",
       "      <td>89.28535</td>\n",
       "      <td>78.069646</td>\n",
       "      <td>9.895531</td>\n",
       "      <td>53.041366</td>\n",
       "      <td>0.005767</td>\n",
       "      <td>53.035599</td>\n",
       "      <td>79.152046</td>\n",
       "      <td>58.535433</td>\n",
       "      <td>20.616613</td>\n",
       "      <td>...</td>\n",
       "      <td>25.219918</td>\n",
       "      <td>747.893091</td>\n",
       "      <td>20.228901</td>\n",
       "      <td>100.511257</td>\n",
       "      <td>27.515582</td>\n",
       "      <td>194.122435</td>\n",
       "      <td>0.197849</td>\n",
       "      <td>222.216702</td>\n",
       "      <td>2174.299434</td>\n",
       "      <td>5310.115116</td>\n",
       "    </tr>\n",
       "    <tr>\n",
       "      <th>std</th>\n",
       "      <td>3.463623</td>\n",
       "      <td>327.27503</td>\n",
       "      <td>303.446020</td>\n",
       "      <td>59.521657</td>\n",
       "      <td>190.741450</td>\n",
       "      <td>0.115223</td>\n",
       "      <td>190.725474</td>\n",
       "      <td>317.630964</td>\n",
       "      <td>246.937464</td>\n",
       "      <td>88.586415</td>\n",
       "      <td>...</td>\n",
       "      <td>98.880282</td>\n",
       "      <td>3024.106467</td>\n",
       "      <td>96.970466</td>\n",
       "      <td>394.059436</td>\n",
       "      <td>167.237522</td>\n",
       "      <td>831.986594</td>\n",
       "      <td>2.415039</td>\n",
       "      <td>936.002540</td>\n",
       "      <td>7988.438462</td>\n",
       "      <td>18524.381119</td>\n",
       "    </tr>\n",
       "    <tr>\n",
       "      <th>min</th>\n",
       "      <td>2001.000000</td>\n",
       "      <td>0.00000</td>\n",
       "      <td>0.000000</td>\n",
       "      <td>0.000000</td>\n",
       "      <td>0.000000</td>\n",
       "      <td>0.000000</td>\n",
       "      <td>0.000000</td>\n",
       "      <td>0.000000</td>\n",
       "      <td>0.000000</td>\n",
       "      <td>0.000000</td>\n",
       "      <td>...</td>\n",
       "      <td>0.000000</td>\n",
       "      <td>0.000000</td>\n",
       "      <td>0.000000</td>\n",
       "      <td>0.000000</td>\n",
       "      <td>0.000000</td>\n",
       "      <td>0.000000</td>\n",
       "      <td>0.000000</td>\n",
       "      <td>0.000000</td>\n",
       "      <td>0.000000</td>\n",
       "      <td>0.000000</td>\n",
       "    </tr>\n",
       "    <tr>\n",
       "      <th>25%</th>\n",
       "      <td>2004.000000</td>\n",
       "      <td>18.00000</td>\n",
       "      <td>10.000000</td>\n",
       "      <td>0.000000</td>\n",
       "      <td>8.000000</td>\n",
       "      <td>0.000000</td>\n",
       "      <td>8.000000</td>\n",
       "      <td>10.000000</td>\n",
       "      <td>6.000000</td>\n",
       "      <td>1.000000</td>\n",
       "      <td>...</td>\n",
       "      <td>2.000000</td>\n",
       "      <td>43.000000</td>\n",
       "      <td>1.000000</td>\n",
       "      <td>10.000000</td>\n",
       "      <td>0.000000</td>\n",
       "      <td>11.000000</td>\n",
       "      <td>0.000000</td>\n",
       "      <td>5.000000</td>\n",
       "      <td>265.000000</td>\n",
       "      <td>853.000000</td>\n",
       "    </tr>\n",
       "    <tr>\n",
       "      <th>50%</th>\n",
       "      <td>2007.000000</td>\n",
       "      <td>38.00000</td>\n",
       "      <td>28.000000</td>\n",
       "      <td>2.000000</td>\n",
       "      <td>20.000000</td>\n",
       "      <td>0.000000</td>\n",
       "      <td>20.000000</td>\n",
       "      <td>25.000000</td>\n",
       "      <td>18.000000</td>\n",
       "      <td>5.000000</td>\n",
       "      <td>...</td>\n",
       "      <td>8.000000</td>\n",
       "      <td>199.000000</td>\n",
       "      <td>5.000000</td>\n",
       "      <td>31.000000</td>\n",
       "      <td>2.000000</td>\n",
       "      <td>47.000000</td>\n",
       "      <td>0.000000</td>\n",
       "      <td>68.000000</td>\n",
       "      <td>745.000000</td>\n",
       "      <td>2096.000000</td>\n",
       "    </tr>\n",
       "    <tr>\n",
       "      <th>75%</th>\n",
       "      <td>2010.000000</td>\n",
       "      <td>66.00000</td>\n",
       "      <td>56.000000</td>\n",
       "      <td>6.000000</td>\n",
       "      <td>41.000000</td>\n",
       "      <td>0.000000</td>\n",
       "      <td>41.000000</td>\n",
       "      <td>56.000000</td>\n",
       "      <td>42.000000</td>\n",
       "      <td>13.000000</td>\n",
       "      <td>...</td>\n",
       "      <td>20.000000</td>\n",
       "      <td>529.000000</td>\n",
       "      <td>16.000000</td>\n",
       "      <td>76.000000</td>\n",
       "      <td>13.000000</td>\n",
       "      <td>135.000000</td>\n",
       "      <td>0.000000</td>\n",
       "      <td>177.000000</td>\n",
       "      <td>1608.000000</td>\n",
       "      <td>3972.000000</td>\n",
       "    </tr>\n",
       "    <tr>\n",
       "      <th>max</th>\n",
       "      <td>2012.000000</td>\n",
       "      <td>7601.00000</td>\n",
       "      <td>7964.000000</td>\n",
       "      <td>1616.000000</td>\n",
       "      <td>3425.000000</td>\n",
       "      <td>5.000000</td>\n",
       "      <td>3425.000000</td>\n",
       "      <td>8878.000000</td>\n",
       "      <td>7910.000000</td>\n",
       "      <td>2416.000000</td>\n",
       "      <td>...</td>\n",
       "      <td>2830.000000</td>\n",
       "      <td>56768.000000</td>\n",
       "      <td>2322.000000</td>\n",
       "      <td>7118.000000</td>\n",
       "      <td>4970.000000</td>\n",
       "      <td>19865.000000</td>\n",
       "      <td>83.000000</td>\n",
       "      <td>16076.000000</td>\n",
       "      <td>124176.000000</td>\n",
       "      <td>220335.000000</td>\n",
       "    </tr>\n",
       "  </tbody>\n",
       "</table>\n",
       "<p>8 rows × 31 columns</p>\n",
       "</div>"
      ],
      "text/plain": [
       "              YEAR      MURDER  ATTEMPT TO MURDER  \\\n",
       "count  9017.000000  9017.00000        9017.000000   \n",
       "mean   2006.629034    89.28535          78.069646   \n",
       "std       3.463623   327.27503         303.446020   \n",
       "min    2001.000000     0.00000           0.000000   \n",
       "25%    2004.000000    18.00000          10.000000   \n",
       "50%    2007.000000    38.00000          28.000000   \n",
       "75%    2010.000000    66.00000          56.000000   \n",
       "max    2012.000000  7601.00000        7964.000000   \n",
       "\n",
       "       CULPABLE HOMICIDE NOT AMOUNTING TO MURDER         RAPE  CUSTODIAL RAPE  \\\n",
       "count                                9017.000000  9017.000000     9017.000000   \n",
       "mean                                    9.895531    53.041366        0.005767   \n",
       "std                                    59.521657   190.741450        0.115223   \n",
       "min                                     0.000000     0.000000        0.000000   \n",
       "25%                                     0.000000     8.000000        0.000000   \n",
       "50%                                     2.000000    20.000000        0.000000   \n",
       "75%                                     6.000000    41.000000        0.000000   \n",
       "max                                  1616.000000  3425.000000        5.000000   \n",
       "\n",
       "        OTHER RAPE  KIDNAPPING & ABDUCTION  \\\n",
       "count  9017.000000             9017.000000   \n",
       "mean     53.035599               79.152046   \n",
       "std     190.725474              317.630964   \n",
       "min       0.000000                0.000000   \n",
       "25%       8.000000               10.000000   \n",
       "50%      20.000000               25.000000   \n",
       "75%      41.000000               56.000000   \n",
       "max    3425.000000             8878.000000   \n",
       "\n",
       "       KIDNAPPING AND ABDUCTION OF WOMEN AND GIRLS  \\\n",
       "count                                  9017.000000   \n",
       "mean                                     58.535433   \n",
       "std                                     246.937464   \n",
       "min                                       0.000000   \n",
       "25%                                       6.000000   \n",
       "50%                                      18.000000   \n",
       "75%                                      42.000000   \n",
       "max                                    7910.000000   \n",
       "\n",
       "       KIDNAPPING AND ABDUCTION OF OTHERS  ...        ARSON  \\\n",
       "count                         9017.000000  ...  9017.000000   \n",
       "mean                            20.616613  ...    25.219918   \n",
       "std                             88.586415  ...    98.880282   \n",
       "min                              0.000000  ...     0.000000   \n",
       "25%                              1.000000  ...     2.000000   \n",
       "50%                              5.000000  ...     8.000000   \n",
       "75%                             13.000000  ...    20.000000   \n",
       "max                           2416.000000  ...  2830.000000   \n",
       "\n",
       "       HURT/GREVIOUS HURT  DOWRY DEATHS  \\\n",
       "count         9017.000000   9017.000000   \n",
       "mean           747.893091     20.228901   \n",
       "std           3024.106467     96.970466   \n",
       "min              0.000000      0.000000   \n",
       "25%             43.000000      1.000000   \n",
       "50%            199.000000      5.000000   \n",
       "75%            529.000000     16.000000   \n",
       "max          56768.000000   2322.000000   \n",
       "\n",
       "       ASSAULT ON WOMEN WITH INTENT TO OUTRAGE HER MODESTY  \\\n",
       "count                                        9017.000000     \n",
       "mean                                          100.511257     \n",
       "std                                           394.059436     \n",
       "min                                             0.000000     \n",
       "25%                                            10.000000     \n",
       "50%                                            31.000000     \n",
       "75%                                            76.000000     \n",
       "max                                          7118.000000     \n",
       "\n",
       "       INSULT TO MODESTY OF WOMEN  CRUELTY BY HUSBAND OR HIS RELATIVES  \\\n",
       "count                 9017.000000                          9017.000000   \n",
       "mean                    27.515582                           194.122435   \n",
       "std                    167.237522                           831.986594   \n",
       "min                      0.000000                             0.000000   \n",
       "25%                      0.000000                            11.000000   \n",
       "50%                      2.000000                            47.000000   \n",
       "75%                     13.000000                           135.000000   \n",
       "max                   4970.000000                         19865.000000   \n",
       "\n",
       "       IMPORTATION OF GIRLS FROM FOREIGN COUNTRIES  \\\n",
       "count                                  9017.000000   \n",
       "mean                                      0.197849   \n",
       "std                                       2.415039   \n",
       "min                                       0.000000   \n",
       "25%                                       0.000000   \n",
       "50%                                       0.000000   \n",
       "75%                                       0.000000   \n",
       "max                                      83.000000   \n",
       "\n",
       "       CAUSING DEATH BY NEGLIGENCE  OTHER IPC CRIMES  TOTAL IPC CRIMES  \n",
       "count                  9017.000000       9017.000000       9017.000000  \n",
       "mean                    222.216702       2174.299434       5310.115116  \n",
       "std                     936.002540       7988.438462      18524.381119  \n",
       "min                       0.000000          0.000000          0.000000  \n",
       "25%                       5.000000        265.000000        853.000000  \n",
       "50%                      68.000000        745.000000       2096.000000  \n",
       "75%                     177.000000       1608.000000       3972.000000  \n",
       "max                   16076.000000     124176.000000     220335.000000  \n",
       "\n",
       "[8 rows x 31 columns]"
      ]
     },
     "execution_count": 10,
     "metadata": {},
     "output_type": "execute_result"
    }
   ],
   "source": [
    "df.describe()"
   ]
  },
  {
   "cell_type": "code",
   "execution_count": 11,
   "id": "b8d355af-979a-46ae-9073-1ea4ed69f45f",
   "metadata": {},
   "outputs": [
    {
     "data": {
      "text/plain": [
       "(9017, 33)"
      ]
     },
     "execution_count": 11,
     "metadata": {},
     "output_type": "execute_result"
    }
   ],
   "source": [
    "df.shape"
   ]
  },
  {
   "cell_type": "code",
   "execution_count": 12,
   "id": "3024b5bd-7dff-4dcd-a113-935976ff49fd",
   "metadata": {},
   "outputs": [
    {
     "data": {
      "text/plain": [
       "np.int64(0)"
      ]
     },
     "execution_count": 12,
     "metadata": {},
     "output_type": "execute_result"
    }
   ],
   "source": [
    "df.duplicated().sum()"
   ]
  },
  {
   "cell_type": "code",
   "execution_count": 13,
   "id": "41fe1247-412b-4d25-b44a-1c9648d35bff",
   "metadata": {},
   "outputs": [],
   "source": [
    "df.rename(columns={'KIDNAPPING AND ABDUCTION OF WOMEN AND GIRLS':'KIDNAPPING_WOMEN_GIRLS',\n",
    "                   'ATTEMPT TO MURDER':'ATTEMPT_TO_MURDER',\n",
    "                   'CULPABLE HOMICIDE NOT AMOUNTING TO MURDER':'CULPABLE_HOMICIDE',\n",
    "                   'CUSTODIAL RAPE':'CUSTODIAL_RAPE',\n",
    "                   'OTHER RAPE':'OTHER_RAPE',\n",
    "                   'KIDNAPPING & ABDUCTION0:':'KIDNAPPING_ABDUCTION',\n",
    "                   'PREPARATION AND ASSEMBLY FOR DACOITY':'PREPARATION_AND_ASSEMBLY_FOR_DACOITY',\n",
    "                   'AUTO THEFT':'AUTO_THEFT', \n",
    "                   'OTHER THEFT':'OTHER_THEFT',\n",
    "                   'CRIMINAL BREACH OF TRUST':'CRIMINAL_BREACH_OF_TRUST',\n",
    "                   'HURT/GREVIOUS HURT':'HURT/GREVIOUS_HURT',\n",
    "                   'DOWRY DEATHS':'DOWRY_DEATHS',\n",
    "                   'ASSAULT ON WOMEN WITH INTENT TO OUTRAGE HER MODESTY':'ASSAULT_WOMEN_MODESTY',\n",
    "                   'INSULT TO MODESTY OF WOMEN':'INSULT_WOMEN_MODESTY', \n",
    "                   'CRUELTY BY HUSBAND OR HIS RELATIVES':'CRUELTY_HUSBAND_RELATIVES',\n",
    "                   'IMPORTATION OF GIRLS FROM FOREIGN COUNTRIES':'IMPORTATION_GIRLS_FOREIGN',\n",
    "                   'CAUSING DEATH BY NEGLIGENCE':'DEATH_NEGLIGENCE',  \n",
    "                   'OTHER IPC CRIMES':'OTHER_IPC_CRIMES',\n",
    "                   'TOTAL IPC CRIMES':'TOTAL_IPC_CRIMES',\n",
    "                   'STATE/UT':'STATE_UT'},inplace=True)"
   ]
  },
  {
   "cell_type": "code",
   "execution_count": 14,
   "id": "f05c0415-2b3d-4c51-87c8-94f72a81b98a",
   "metadata": {},
   "outputs": [
    {
     "name": "stdout",
     "output_type": "stream",
     "text": [
      "Column names after renaming: Index(['state_ut', 'district', 'year', 'murder', 'attempt_to_murder',\n",
      "       'culpable_homicide', 'rape', 'custodial_rape', 'other_rape',\n",
      "       'kidnapping__abduction', 'kidnapping_women_girls',\n",
      "       'kidnapping_and_abduction_of_others', 'dacoity',\n",
      "       'preparation_and_assembly_for_dacoity', 'robbery', 'burglary', 'theft',\n",
      "       'auto_theft', 'other_theft', 'riots', 'criminal_breach_of_trust',\n",
      "       'cheating', 'counterfieting', 'arson', 'hurtgrevious_hurt',\n",
      "       'dowry_deaths', 'assault_women_modesty', 'insult_women_modesty',\n",
      "       'cruelty_husband_relatives', 'importation_girls_foreign',\n",
      "       'death_negligence', 'other_ipc_crimes', 'total_ipc_crimes'],\n",
      "      dtype='object')\n"
     ]
    }
   ],
   "source": [
    "df.columns = df.columns.str.lower()  # Convert column names to lowercase\n",
    "df.columns = df.columns.str.replace(' ', '_')  # Replace spaces with underscores\n",
    "df.columns = df.columns.str.replace('[^a-z0-9_]', '', regex=True)  # Remove non-alphanumeric characters\n",
    "print(\"Column names after renaming:\", df.columns)"
   ]
  },
  {
   "cell_type": "code",
   "execution_count": 15,
   "id": "b2713ae7-24e7-47ab-bf4a-40009c9463dd",
   "metadata": {},
   "outputs": [
    {
     "data": {
      "text/plain": [
       "Index(['state_ut', 'district', 'year', 'murder', 'attempt_to_murder',\n",
       "       'culpable_homicide', 'rape', 'custodial_rape', 'other_rape',\n",
       "       'kidnapping__abduction', 'kidnapping_women_girls',\n",
       "       'kidnapping_and_abduction_of_others', 'dacoity',\n",
       "       'preparation_and_assembly_for_dacoity', 'robbery', 'burglary', 'theft',\n",
       "       'auto_theft', 'other_theft', 'riots', 'criminal_breach_of_trust',\n",
       "       'cheating', 'counterfieting', 'arson', 'hurtgrevious_hurt',\n",
       "       'dowry_deaths', 'assault_women_modesty', 'insult_women_modesty',\n",
       "       'cruelty_husband_relatives', 'importation_girls_foreign',\n",
       "       'death_negligence', 'other_ipc_crimes', 'total_ipc_crimes'],\n",
       "      dtype='object')"
      ]
     },
     "execution_count": 15,
     "metadata": {},
     "output_type": "execute_result"
    }
   ],
   "source": [
    "df.columns"
   ]
  },
  {
   "cell_type": "code",
   "execution_count": 16,
   "id": "222b8555-148d-4994-9b1f-5477c6676d0a",
   "metadata": {},
   "outputs": [
    {
     "name": "stdout",
     "output_type": "stream",
     "text": [
      "<class 'pandas.core.frame.DataFrame'>\n",
      "RangeIndex: 9017 entries, 0 to 9016\n",
      "Data columns (total 33 columns):\n",
      " #   Column                                Non-Null Count  Dtype \n",
      "---  ------                                --------------  ----- \n",
      " 0   state_ut                              9017 non-null   object\n",
      " 1   district                              9017 non-null   object\n",
      " 2   year                                  9017 non-null   int64 \n",
      " 3   murder                                9017 non-null   int64 \n",
      " 4   attempt_to_murder                     9017 non-null   int64 \n",
      " 5   culpable_homicide                     9017 non-null   int64 \n",
      " 6   rape                                  9017 non-null   int64 \n",
      " 7   custodial_rape                        9017 non-null   int64 \n",
      " 8   other_rape                            9017 non-null   int64 \n",
      " 9   kidnapping__abduction                 9017 non-null   int64 \n",
      " 10  kidnapping_women_girls                9017 non-null   int64 \n",
      " 11  kidnapping_and_abduction_of_others    9017 non-null   int64 \n",
      " 12  dacoity                               9017 non-null   int64 \n",
      " 13  preparation_and_assembly_for_dacoity  9017 non-null   int64 \n",
      " 14  robbery                               9017 non-null   int64 \n",
      " 15  burglary                              9017 non-null   int64 \n",
      " 16  theft                                 9017 non-null   int64 \n",
      " 17  auto_theft                            9017 non-null   int64 \n",
      " 18  other_theft                           9017 non-null   int64 \n",
      " 19  riots                                 9017 non-null   int64 \n",
      " 20  criminal_breach_of_trust              9017 non-null   int64 \n",
      " 21  cheating                              9017 non-null   int64 \n",
      " 22  counterfieting                        9017 non-null   int64 \n",
      " 23  arson                                 9017 non-null   int64 \n",
      " 24  hurtgrevious_hurt                     9017 non-null   int64 \n",
      " 25  dowry_deaths                          9017 non-null   int64 \n",
      " 26  assault_women_modesty                 9017 non-null   int64 \n",
      " 27  insult_women_modesty                  9017 non-null   int64 \n",
      " 28  cruelty_husband_relatives             9017 non-null   int64 \n",
      " 29  importation_girls_foreign             9017 non-null   int64 \n",
      " 30  death_negligence                      9017 non-null   int64 \n",
      " 31  other_ipc_crimes                      9017 non-null   int64 \n",
      " 32  total_ipc_crimes                      9017 non-null   int64 \n",
      "dtypes: int64(31), object(2)\n",
      "memory usage: 2.3+ MB\n"
     ]
    }
   ],
   "source": [
    "df.info()"
   ]
  },
  {
   "cell_type": "code",
   "execution_count": 17,
   "id": "b85d5cc4-7fdd-41eb-a70c-f631e13755f0",
   "metadata": {},
   "outputs": [
    {
     "data": {
      "text/plain": [
       "Index(['state_ut', 'district', 'year', 'murder', 'attempt_to_murder',\n",
       "       'culpable_homicide', 'rape', 'custodial_rape', 'other_rape',\n",
       "       'kidnapping__abduction', 'kidnapping_women_girls',\n",
       "       'kidnapping_and_abduction_of_others', 'dacoity',\n",
       "       'preparation_and_assembly_for_dacoity', 'robbery', 'burglary', 'theft',\n",
       "       'auto_theft', 'other_theft', 'riots', 'criminal_breach_of_trust',\n",
       "       'cheating', 'counterfieting', 'arson', 'hurtgrevious_hurt',\n",
       "       'dowry_deaths', 'assault_women_modesty', 'insult_women_modesty',\n",
       "       'cruelty_husband_relatives', 'importation_girls_foreign',\n",
       "       'death_negligence', 'other_ipc_crimes', 'total_ipc_crimes'],\n",
       "      dtype='object')"
      ]
     },
     "execution_count": 17,
     "metadata": {},
     "output_type": "execute_result"
    }
   ],
   "source": [
    "df.columns"
   ]
  },
  {
   "cell_type": "code",
   "execution_count": 18,
   "id": "e0ced050-b169-4abc-99f1-fb715fd319c6",
   "metadata": {},
   "outputs": [],
   "source": [
    "df.columns = df.columns.str.replace(' ', '_').str.replace('&', 'AND')"
   ]
  },
  {
   "cell_type": "code",
   "execution_count": 19,
   "id": "4487f40b-d2a0-484b-be05-f7994ecb0acb",
   "metadata": {
    "scrolled": true
   },
   "outputs": [
    {
     "name": "stdout",
     "output_type": "stream",
     "text": [
      "             state_ut  district  year  murder  attempt_to_murder  \\\n",
      "6880  JAMMU & KASHMIR  RAILWAYS  2010       0                  0   \n",
      "6881  JAMMU & KASHMIR  RAILWAYS  2010       1                  0   \n",
      "\n",
      "      culpable_homicide  rape  custodial_rape  other_rape  \\\n",
      "6880                  0     0               0           0   \n",
      "6881                  1     1               0           1   \n",
      "\n",
      "      kidnapping__abduction  ...  arson  hurtgrevious_hurt  dowry_deaths  \\\n",
      "6880                      1  ...      0                  0             0   \n",
      "6881                      0  ...      0                  0             0   \n",
      "\n",
      "      assault_women_modesty  insult_women_modesty  cruelty_husband_relatives  \\\n",
      "6880                      0                     0                          0   \n",
      "6881                      0                     0                          0   \n",
      "\n",
      "      importation_girls_foreign  death_negligence  other_ipc_crimes  \\\n",
      "6880                          0                 0                 5   \n",
      "6881                          0                 0                10   \n",
      "\n",
      "      total_ipc_crimes  \n",
      "6880                36  \n",
      "6881                21  \n",
      "\n",
      "[2 rows x 33 columns]\n"
     ]
    }
   ],
   "source": [
    "# Check for duplicate rows based on the primary key\n",
    "duplicates = df[df.duplicated(subset=['state_ut','district','year'], keep=False)]\n",
    "print(duplicates)\n"
   ]
  },
  {
   "cell_type": "code",
   "execution_count": 20,
   "id": "faef32a5-50de-4e4d-b16f-2088b3732be6",
   "metadata": {},
   "outputs": [
    {
     "data": {
      "text/html": [
       "<div>\n",
       "<style scoped>\n",
       "    .dataframe tbody tr th:only-of-type {\n",
       "        vertical-align: middle;\n",
       "    }\n",
       "\n",
       "    .dataframe tbody tr th {\n",
       "        vertical-align: top;\n",
       "    }\n",
       "\n",
       "    .dataframe thead th {\n",
       "        text-align: right;\n",
       "    }\n",
       "</style>\n",
       "<table border=\"1\" class=\"dataframe\">\n",
       "  <thead>\n",
       "    <tr style=\"text-align: right;\">\n",
       "      <th></th>\n",
       "      <th>state_ut</th>\n",
       "      <th>district</th>\n",
       "      <th>year</th>\n",
       "      <th>murder</th>\n",
       "      <th>attempt_to_murder</th>\n",
       "      <th>culpable_homicide</th>\n",
       "      <th>rape</th>\n",
       "      <th>custodial_rape</th>\n",
       "      <th>other_rape</th>\n",
       "      <th>kidnapping__abduction</th>\n",
       "      <th>...</th>\n",
       "      <th>arson</th>\n",
       "      <th>hurtgrevious_hurt</th>\n",
       "      <th>dowry_deaths</th>\n",
       "      <th>assault_women_modesty</th>\n",
       "      <th>insult_women_modesty</th>\n",
       "      <th>cruelty_husband_relatives</th>\n",
       "      <th>importation_girls_foreign</th>\n",
       "      <th>death_negligence</th>\n",
       "      <th>other_ipc_crimes</th>\n",
       "      <th>total_ipc_crimes</th>\n",
       "    </tr>\n",
       "  </thead>\n",
       "  <tbody>\n",
       "    <tr>\n",
       "      <th>0</th>\n",
       "      <td>ANDHRA PRADESH</td>\n",
       "      <td>ADILABAD</td>\n",
       "      <td>2001</td>\n",
       "      <td>101</td>\n",
       "      <td>60</td>\n",
       "      <td>17</td>\n",
       "      <td>50</td>\n",
       "      <td>0</td>\n",
       "      <td>50</td>\n",
       "      <td>46</td>\n",
       "      <td>...</td>\n",
       "      <td>30</td>\n",
       "      <td>1131</td>\n",
       "      <td>16</td>\n",
       "      <td>149</td>\n",
       "      <td>34</td>\n",
       "      <td>175</td>\n",
       "      <td>0</td>\n",
       "      <td>181</td>\n",
       "      <td>1518</td>\n",
       "      <td>4154</td>\n",
       "    </tr>\n",
       "    <tr>\n",
       "      <th>1</th>\n",
       "      <td>ANDHRA PRADESH</td>\n",
       "      <td>ANANTAPUR</td>\n",
       "      <td>2001</td>\n",
       "      <td>151</td>\n",
       "      <td>125</td>\n",
       "      <td>1</td>\n",
       "      <td>23</td>\n",
       "      <td>0</td>\n",
       "      <td>23</td>\n",
       "      <td>53</td>\n",
       "      <td>...</td>\n",
       "      <td>69</td>\n",
       "      <td>1543</td>\n",
       "      <td>7</td>\n",
       "      <td>118</td>\n",
       "      <td>24</td>\n",
       "      <td>154</td>\n",
       "      <td>0</td>\n",
       "      <td>270</td>\n",
       "      <td>754</td>\n",
       "      <td>4125</td>\n",
       "    </tr>\n",
       "    <tr>\n",
       "      <th>2</th>\n",
       "      <td>ANDHRA PRADESH</td>\n",
       "      <td>CHITTOOR</td>\n",
       "      <td>2001</td>\n",
       "      <td>101</td>\n",
       "      <td>57</td>\n",
       "      <td>2</td>\n",
       "      <td>27</td>\n",
       "      <td>0</td>\n",
       "      <td>27</td>\n",
       "      <td>59</td>\n",
       "      <td>...</td>\n",
       "      <td>38</td>\n",
       "      <td>2088</td>\n",
       "      <td>14</td>\n",
       "      <td>112</td>\n",
       "      <td>83</td>\n",
       "      <td>186</td>\n",
       "      <td>0</td>\n",
       "      <td>404</td>\n",
       "      <td>1262</td>\n",
       "      <td>5818</td>\n",
       "    </tr>\n",
       "    <tr>\n",
       "      <th>3</th>\n",
       "      <td>ANDHRA PRADESH</td>\n",
       "      <td>CUDDAPAH</td>\n",
       "      <td>2001</td>\n",
       "      <td>80</td>\n",
       "      <td>53</td>\n",
       "      <td>1</td>\n",
       "      <td>20</td>\n",
       "      <td>0</td>\n",
       "      <td>20</td>\n",
       "      <td>25</td>\n",
       "      <td>...</td>\n",
       "      <td>23</td>\n",
       "      <td>795</td>\n",
       "      <td>17</td>\n",
       "      <td>126</td>\n",
       "      <td>38</td>\n",
       "      <td>57</td>\n",
       "      <td>0</td>\n",
       "      <td>233</td>\n",
       "      <td>1181</td>\n",
       "      <td>3140</td>\n",
       "    </tr>\n",
       "    <tr>\n",
       "      <th>4</th>\n",
       "      <td>ANDHRA PRADESH</td>\n",
       "      <td>EAST GODAVARI</td>\n",
       "      <td>2001</td>\n",
       "      <td>82</td>\n",
       "      <td>67</td>\n",
       "      <td>1</td>\n",
       "      <td>23</td>\n",
       "      <td>0</td>\n",
       "      <td>23</td>\n",
       "      <td>49</td>\n",
       "      <td>...</td>\n",
       "      <td>41</td>\n",
       "      <td>1244</td>\n",
       "      <td>12</td>\n",
       "      <td>109</td>\n",
       "      <td>58</td>\n",
       "      <td>247</td>\n",
       "      <td>0</td>\n",
       "      <td>431</td>\n",
       "      <td>2313</td>\n",
       "      <td>6507</td>\n",
       "    </tr>\n",
       "    <tr>\n",
       "      <th>...</th>\n",
       "      <td>...</td>\n",
       "      <td>...</td>\n",
       "      <td>...</td>\n",
       "      <td>...</td>\n",
       "      <td>...</td>\n",
       "      <td>...</td>\n",
       "      <td>...</td>\n",
       "      <td>...</td>\n",
       "      <td>...</td>\n",
       "      <td>...</td>\n",
       "      <td>...</td>\n",
       "      <td>...</td>\n",
       "      <td>...</td>\n",
       "      <td>...</td>\n",
       "      <td>...</td>\n",
       "      <td>...</td>\n",
       "      <td>...</td>\n",
       "      <td>...</td>\n",
       "      <td>...</td>\n",
       "      <td>...</td>\n",
       "      <td>...</td>\n",
       "    </tr>\n",
       "    <tr>\n",
       "      <th>9012</th>\n",
       "      <td>LAKSHADWEEP</td>\n",
       "      <td>LAKSHADWEEP</td>\n",
       "      <td>2012</td>\n",
       "      <td>0</td>\n",
       "      <td>0</td>\n",
       "      <td>0</td>\n",
       "      <td>0</td>\n",
       "      <td>0</td>\n",
       "      <td>0</td>\n",
       "      <td>0</td>\n",
       "      <td>...</td>\n",
       "      <td>3</td>\n",
       "      <td>3</td>\n",
       "      <td>0</td>\n",
       "      <td>1</td>\n",
       "      <td>0</td>\n",
       "      <td>1</td>\n",
       "      <td>0</td>\n",
       "      <td>0</td>\n",
       "      <td>32</td>\n",
       "      <td>60</td>\n",
       "    </tr>\n",
       "    <tr>\n",
       "      <th>9013</th>\n",
       "      <td>LAKSHADWEEP</td>\n",
       "      <td>TOTAL</td>\n",
       "      <td>2012</td>\n",
       "      <td>0</td>\n",
       "      <td>0</td>\n",
       "      <td>0</td>\n",
       "      <td>0</td>\n",
       "      <td>0</td>\n",
       "      <td>0</td>\n",
       "      <td>0</td>\n",
       "      <td>...</td>\n",
       "      <td>3</td>\n",
       "      <td>3</td>\n",
       "      <td>0</td>\n",
       "      <td>1</td>\n",
       "      <td>0</td>\n",
       "      <td>1</td>\n",
       "      <td>0</td>\n",
       "      <td>0</td>\n",
       "      <td>32</td>\n",
       "      <td>60</td>\n",
       "    </tr>\n",
       "    <tr>\n",
       "      <th>9014</th>\n",
       "      <td>PUDUCHERRY</td>\n",
       "      <td>KARAIKAL</td>\n",
       "      <td>2012</td>\n",
       "      <td>5</td>\n",
       "      <td>6</td>\n",
       "      <td>2</td>\n",
       "      <td>6</td>\n",
       "      <td>0</td>\n",
       "      <td>6</td>\n",
       "      <td>2</td>\n",
       "      <td>...</td>\n",
       "      <td>1</td>\n",
       "      <td>186</td>\n",
       "      <td>0</td>\n",
       "      <td>2</td>\n",
       "      <td>0</td>\n",
       "      <td>1</td>\n",
       "      <td>0</td>\n",
       "      <td>44</td>\n",
       "      <td>392</td>\n",
       "      <td>787</td>\n",
       "    </tr>\n",
       "    <tr>\n",
       "      <th>9015</th>\n",
       "      <td>PUDUCHERRY</td>\n",
       "      <td>PUDUCHERRY</td>\n",
       "      <td>2012</td>\n",
       "      <td>24</td>\n",
       "      <td>21</td>\n",
       "      <td>10</td>\n",
       "      <td>7</td>\n",
       "      <td>0</td>\n",
       "      <td>7</td>\n",
       "      <td>17</td>\n",
       "      <td>...</td>\n",
       "      <td>20</td>\n",
       "      <td>632</td>\n",
       "      <td>0</td>\n",
       "      <td>7</td>\n",
       "      <td>2</td>\n",
       "      <td>5</td>\n",
       "      <td>0</td>\n",
       "      <td>219</td>\n",
       "      <td>1668</td>\n",
       "      <td>3494</td>\n",
       "    </tr>\n",
       "    <tr>\n",
       "      <th>9016</th>\n",
       "      <td>PUDUCHERRY</td>\n",
       "      <td>TOTAL</td>\n",
       "      <td>2012</td>\n",
       "      <td>29</td>\n",
       "      <td>27</td>\n",
       "      <td>12</td>\n",
       "      <td>13</td>\n",
       "      <td>0</td>\n",
       "      <td>13</td>\n",
       "      <td>19</td>\n",
       "      <td>...</td>\n",
       "      <td>21</td>\n",
       "      <td>818</td>\n",
       "      <td>0</td>\n",
       "      <td>9</td>\n",
       "      <td>2</td>\n",
       "      <td>6</td>\n",
       "      <td>0</td>\n",
       "      <td>263</td>\n",
       "      <td>2060</td>\n",
       "      <td>4281</td>\n",
       "    </tr>\n",
       "  </tbody>\n",
       "</table>\n",
       "<p>9016 rows × 33 columns</p>\n",
       "</div>"
      ],
      "text/plain": [
       "            state_ut       district  year  murder  attempt_to_murder  \\\n",
       "0     ANDHRA PRADESH       ADILABAD  2001     101                 60   \n",
       "1     ANDHRA PRADESH      ANANTAPUR  2001     151                125   \n",
       "2     ANDHRA PRADESH       CHITTOOR  2001     101                 57   \n",
       "3     ANDHRA PRADESH       CUDDAPAH  2001      80                 53   \n",
       "4     ANDHRA PRADESH  EAST GODAVARI  2001      82                 67   \n",
       "...              ...            ...   ...     ...                ...   \n",
       "9012     LAKSHADWEEP    LAKSHADWEEP  2012       0                  0   \n",
       "9013     LAKSHADWEEP          TOTAL  2012       0                  0   \n",
       "9014      PUDUCHERRY       KARAIKAL  2012       5                  6   \n",
       "9015      PUDUCHERRY     PUDUCHERRY  2012      24                 21   \n",
       "9016      PUDUCHERRY          TOTAL  2012      29                 27   \n",
       "\n",
       "      culpable_homicide  rape  custodial_rape  other_rape  \\\n",
       "0                    17    50               0          50   \n",
       "1                     1    23               0          23   \n",
       "2                     2    27               0          27   \n",
       "3                     1    20               0          20   \n",
       "4                     1    23               0          23   \n",
       "...                 ...   ...             ...         ...   \n",
       "9012                  0     0               0           0   \n",
       "9013                  0     0               0           0   \n",
       "9014                  2     6               0           6   \n",
       "9015                 10     7               0           7   \n",
       "9016                 12    13               0          13   \n",
       "\n",
       "      kidnapping__abduction  ...  arson  hurtgrevious_hurt  dowry_deaths  \\\n",
       "0                        46  ...     30               1131            16   \n",
       "1                        53  ...     69               1543             7   \n",
       "2                        59  ...     38               2088            14   \n",
       "3                        25  ...     23                795            17   \n",
       "4                        49  ...     41               1244            12   \n",
       "...                     ...  ...    ...                ...           ...   \n",
       "9012                      0  ...      3                  3             0   \n",
       "9013                      0  ...      3                  3             0   \n",
       "9014                      2  ...      1                186             0   \n",
       "9015                     17  ...     20                632             0   \n",
       "9016                     19  ...     21                818             0   \n",
       "\n",
       "      assault_women_modesty  insult_women_modesty  cruelty_husband_relatives  \\\n",
       "0                       149                    34                        175   \n",
       "1                       118                    24                        154   \n",
       "2                       112                    83                        186   \n",
       "3                       126                    38                         57   \n",
       "4                       109                    58                        247   \n",
       "...                     ...                   ...                        ...   \n",
       "9012                      1                     0                          1   \n",
       "9013                      1                     0                          1   \n",
       "9014                      2                     0                          1   \n",
       "9015                      7                     2                          5   \n",
       "9016                      9                     2                          6   \n",
       "\n",
       "      importation_girls_foreign  death_negligence  other_ipc_crimes  \\\n",
       "0                             0               181              1518   \n",
       "1                             0               270               754   \n",
       "2                             0               404              1262   \n",
       "3                             0               233              1181   \n",
       "4                             0               431              2313   \n",
       "...                         ...               ...               ...   \n",
       "9012                          0                 0                32   \n",
       "9013                          0                 0                32   \n",
       "9014                          0                44               392   \n",
       "9015                          0               219              1668   \n",
       "9016                          0               263              2060   \n",
       "\n",
       "      total_ipc_crimes  \n",
       "0                 4154  \n",
       "1                 4125  \n",
       "2                 5818  \n",
       "3                 3140  \n",
       "4                 6507  \n",
       "...                ...  \n",
       "9012                60  \n",
       "9013                60  \n",
       "9014               787  \n",
       "9015              3494  \n",
       "9016              4281  \n",
       "\n",
       "[9016 rows x 33 columns]"
      ]
     },
     "execution_count": 20,
     "metadata": {},
     "output_type": "execute_result"
    }
   ],
   "source": [
    "df.drop_duplicates(subset=['state_ut','district','year'], keep='first')"
   ]
  },
  {
   "cell_type": "code",
   "execution_count": 21,
   "id": "5a007d6a-5af5-4421-bdc7-cbc2ab20f764",
   "metadata": {},
   "outputs": [],
   "source": [
    "df.to_csv(\"C:/Users/pravalika goud k/OneDrive/Desktop/projects/CRIMES NEW/crimes_cleaned.csv\")"
   ]
  },
  {
   "cell_type": "markdown",
   "id": "cf5b7aa3-01e3-49c5-8c04-bf68ff927482",
   "metadata": {},
   "source": [
    "# Exploratory Data Analysis (EDA) "
   ]
  },
  {
   "cell_type": "markdown",
   "id": "3d7f19fe-813a-4ee6-92ad-ecddebde0481",
   "metadata": {},
   "source": [
    "# The yearly trend of reported crimes visualising it with a line plot"
   ]
  },
  {
   "cell_type": "code",
   "execution_count": 22,
   "id": "51cecc19-5157-48b5-ae18-642d59a140d0",
   "metadata": {},
   "outputs": [
    {
     "data": {
      "image/png": "[encoded data removed]",
      "text/plain": [
       "<Figure size 1000x600 with 1 Axes>"
      ]
     },
     "metadata": {},
     "output_type": "display_data"
    }
   ],
   "source": [
    " # Grouping data by 'Year' and summing up 'Total IPC Crimes'\n",
    "yearly_trend = df.groupby('year')['total_ipc_crimes'].sum()\n",
    "\n",
    "# Plotting the yearly trend\n",
    "plt.figure(figsize=(10, 6))\n",
    "plt.plot(yearly_trend.index, yearly_trend.values, marker='o', linestyle='-', color='b')\n",
    "plt.title(\"Yearly Trend of Total IPC Crimes\", fontsize=14)\n",
    "plt.xlabel(\"Year\", fontsize=12)\n",
    "plt.ylabel(\"Total IPC Crimes\", fontsize=12)\n",
    "plt.grid(True, linestyle='--', alpha=0.6)\n",
    "plt.show()"
   ]
  },
  {
   "cell_type": "markdown",
   "id": "e693173d-dcb5-4bb5-965d-e6d2b4fd3e61",
   "metadata": {},
   "source": [
    "# Which months see the highest and lowest crime rates? Create a bar chart to display monthly crime distribution."
   ]
  },
  {
   "cell_type": "code",
   "execution_count": 23,
   "id": "f2ffdd8d-2071-4034-b177-57a5f6b85bcb",
   "metadata": {},
   "outputs": [
    {
     "data": {
      "image/png": "[encoded data removed]",
      "text/plain": [
       "<Figure size 1200x600 with 1 Axes>"
      ]
     },
     "metadata": {},
     "output_type": "display_data"
    }
   ],
   "source": [
    "# Grouping data by 'State/UT' and summing up 'Total IPC Crimes'\n",
    "statewise_distribution = df.groupby('state_ut')['total_ipc_crimes'].sum().sort_values(ascending=False).reset_index()\n",
    "\n",
    "# Plotting the distribution\n",
    "plt.figure(figsize=(12, 6))\n",
    "sns.barplot(x='total_ipc_crimes', y='state_ut', data=statewise_distribution, hue='state_ut', palette=\"viridis\", legend=False)\n",
    "plt.title(\"Crime Distribution Across States/UTs\", fontsize=14)\n",
    "plt.xlabel(\"Total IPC Crimes\", fontsize=12)\n",
    "plt.ylabel(\"State/UT\", fontsize=12)\n",
    "plt.show()"
   ]
  },
  {
   "cell_type": "markdown",
   "id": "94380242-8c4e-4df9-ac47-c1c11d00cb23",
   "metadata": {},
   "source": [
    "# How does crime vary by day of the week? Use a heatmap to show the relationship between days of the week and crime frequency.\n"
   ]
  },
  {
   "cell_type": "code",
   "execution_count": 24,
   "id": "9ac4cf92-fed8-46bd-823e-7e8a51b9f845",
   "metadata": {},
   "outputs": [
    {
     "data": {
      "image/png": "[encoded data removed]",
      "text/plain": [
       "<Figure size 1000x600 with 1 Axes>"
      ]
     },
     "metadata": {},
     "output_type": "display_data"
    }
   ],
   "source": [
    "# Selecting crime types to analyze\n",
    "\n",
    "crime_types = ['murder', 'rape', 'theft']\n",
    "\n",
    "# Grouping data by 'Year' and summing up the selected crime types\n",
    "yearly_crimes = df.groupby('year')[crime_types].sum()\n",
    "\n",
    "# Plotting yearly trends for each crime type\n",
    "plt.figure(figsize=(10, 6))\n",
    "for crime in crime_types:\n",
    "    plt.plot(yearly_crimes.index, yearly_crimes[crime], marker='o', label=crime)\n",
    "\n",
    "plt.title(\"Yearly Trends for Selected Crime Types\", fontsize=14)\n",
    "plt.xlabel(\"Year\", fontsize=12)\n",
    "plt.ylabel(\"Number of Crimes\", fontsize=12)\n",
    "plt.legend(title=\"Crime Type\")\n",
    "plt.grid(True, linestyle='--', alpha=0.6)\n",
    "plt.show()\n"
   ]
  },
  {
   "cell_type": "markdown",
   "id": "082e9e3e-6c27-4f72-a832-349ae0b4ded8",
   "metadata": {},
   "source": [
    "# What are the top 10 most frequent crime types? Use a horizontal bar chart for better readability."
   ]
  },
  {
   "cell_type": "code",
   "execution_count": 25,
   "id": "ae3912f2-8a5f-41f2-8e60-b7a829585171",
   "metadata": {},
   "outputs": [
    {
     "data": {
      "image/png": "[encoded data removed]",
      "text/plain": [
       "<Figure size 1200x600 with 1 Axes>"
      ]
     },
     "metadata": {},
     "output_type": "display_data"
    }
   ],
   "source": [
    "# Selecting only the crime-related columns\n",
    "crime_columns = ['murder', 'attempt_to_murder', 'culpable_homicide', 'rape',\n",
    "       'custodial_rape', 'other_rape', 'kidnapping__abduction',\n",
    "       'kidnapping_women_girls', 'kidnapping_and_abduction_of_others', 'dacoity',\n",
    "       'preparation_and_assembly_for_dacoity', 'robbery', 'burglary', 'theft',\n",
    "       'auto_theft', 'other_theft', 'riots', 'criminal_breach_of_trust',\n",
    "       'cheating', 'counterfieting', 'arson', 'hurtgrevious_hurt',\n",
    "       'dowry_deaths', 'assault_women_modesty', 'insult_women_modesty',\n",
    "       'cruelty_husband_relatives', 'importation_girls_foreign',\n",
    "       'death_negligence', 'other_ipc_crimes', 'total_ipc_crimes']\n",
    "\n",
    "# Summing up each crime type across the entire dataset\n",
    "crime_totals = df[crime_columns].sum().sort_values(ascending=False).reset_index()\n",
    "crime_totals.columns = ['crime_type', 'total_crimes']\n",
    "\n",
    "# Extracting the top 10 crime types\n",
    "top_10_crimes = crime_totals.head(10)\n",
    "\n",
    "# Plotting the top 10 crimes\n",
    "plt.figure(figsize=(12, 6))\n",
    "sns.barplot(x='total_crimes', y='crime_type', data=top_10_crimes, hue='crime_type', palette=\"Blues_d\", legend=False)\n",
    "plt.title(\"Top 10 Most Frequent Crime Types\", fontsize=14)\n",
    "plt.xlabel(\"Number of Crimes\", fontsize=12)\n",
    "plt.ylabel(\"Crime Types\", fontsize=12)\n",
    "plt.show()\n"
   ]
  },
  {
   "cell_type": "markdown",
   "id": "e0945b7c-e0de-457c-9358-18efa82fb5db",
   "metadata": {},
   "source": [
    "# How has the frequency of specific crime types changed over the years? Create a line plot with separate lines for each crime type."
   ]
  },
  {
   "cell_type": "code",
   "execution_count": 26,
   "id": "4c1ef722-a915-4efc-9fb8-24663cec9243",
   "metadata": {},
   "outputs": [
    {
     "data": {
      "image/png": "[encoded data removed]",
      "text/plain": [
       "<Figure size 1000x600 with 1 Axes>"
      ]
     },
     "metadata": {},
     "output_type": "display_data"
    }
   ],
   "source": [
    "# Selecting specific crime types to analyze\n",
    "specific_crime_types = ['rape', 'murder', 'kidnapping__abduction']\n",
    "\n",
    "# Grouping data by 'year' and summing up the selected crime types\n",
    "yearly_specific_crimes = df.groupby('year')[specific_crime_types].sum()\n",
    "\n",
    "# Plotting yearly trends for the selected crime types\n",
    "plt.figure(figsize=(10, 6))\n",
    "for crime in specific_crime_types:\n",
    "    plt.plot(yearly_specific_crimes.index, yearly_specific_crimes[crime], marker='o', label=crime)\n",
    "\n",
    "plt.title(\"Yearly Trends for Specific Crime Types\", fontsize=14)\n",
    "plt.xlabel(\"Year\", fontsize=12)\n",
    "plt.ylabel(\"Number of Crimes\", fontsize=12)\n",
    "plt.legend(title=\"Crime Type\")\n",
    "plt.grid(True, linestyle='--', alpha=0.6)\n",
    "plt.show()\n"
   ]
  },
  {
   "cell_type": "markdown",
   "id": "d5b2ca57-a1b8-406f-ab18-c523de34c9d5",
   "metadata": {},
   "source": [
    "# What are the least frequent crime types, and do they show any patterns or clusters? Visualize using a scatter plot."
   ]
  },
  {
   "cell_type": "code",
   "execution_count": 27,
   "id": "adc505d0-18f0-4b42-a94f-90e209535113",
   "metadata": {},
   "outputs": [
    {
     "data": {
      "image/png": "[encoded data removed]",
      "text/plain": [
       "<Figure size 1200x600 with 1 Axes>"
      ]
     },
     "metadata": {},
     "output_type": "display_data"
    }
   ],
   "source": [
    "# Extracting the least frequent crime types\n",
    "least_frequent_crimes = crime_totals.tail(10)\n",
    "\n",
    "# Plotting the least frequent crimes as a scatter plot\n",
    "plt.figure(figsize=(12, 6))\n",
    "plt.scatter(least_frequent_crimes['total_crimes'], least_frequent_crimes['crime_type'], color='red', s=100)\n",
    "plt.title(\"Least Frequent Crime Types\", fontsize=14)\n",
    "plt.xlabel(\"Number of Crimes\", fontsize=12)\n",
    "plt.ylabel(\"Crime Types\", fontsize=12)\n",
    "plt.grid(True, linestyle='--', alpha=0.6)\n",
    "plt.show()\n"
   ]
  },
  {
   "cell_type": "markdown",
   "id": "1eff919d-ef46-4cfc-958d-ca42d73b1bca",
   "metadata": {},
   "source": [
    "# Which areas (locations or districts) report the highest crime rates? Display this using a bar plot or a choropleth map."
   ]
  },
  {
   "cell_type": "code",
   "execution_count": 28,
   "id": "5b6eef27-ffdd-4679-9fd0-cea319104b68",
   "metadata": {},
   "outputs": [
    {
     "name": "stdout",
     "output_type": "stream",
     "text": [
      "Requirement already satisfied: geopandas in c:\\users\\pravalika goud k\\appdata\\local\\programs\\python\\python313\\lib\\site-packages (1.0.1)\n",
      "Requirement already satisfied: numpy>=1.22 in c:\\users\\pravalika goud k\\appdata\\local\\programs\\python\\python313\\lib\\site-packages (from geopandas) (2.2.2)\n",
      "Requirement already satisfied: pyogrio>=0.7.2 in c:\\users\\pravalika goud k\\appdata\\local\\programs\\python\\python313\\lib\\site-packages (from geopandas) (0.10.0)\n",
      "Requirement already satisfied: packaging in c:\\users\\pravalika goud k\\appdata\\local\\programs\\python\\python313\\lib\\site-packages (from geopandas) (24.2)\n",
      "Requirement already satisfied: pandas>=1.4.0 in c:\\users\\pravalika goud k\\appdata\\local\\programs\\python\\python313\\lib\\site-packages (from geopandas) (2.2.3)\n",
      "Requirement already satisfied: pyproj>=3.3.0 in c:\\users\\pravalika goud k\\appdata\\local\\programs\\python\\python313\\lib\\site-packages (from geopandas) (3.7.0)\n",
      "Requirement already satisfied: shapely>=2.0.0 in c:\\users\\pravalika goud k\\appdata\\local\\programs\\python\\python313\\lib\\site-packages (from geopandas) (2.0.7)\n",
      "Requirement already satisfied: python-dateutil>=2.8.2 in c:\\users\\pravalika goud k\\appdata\\local\\programs\\python\\python313\\lib\\site-packages (from pandas>=1.4.0->geopandas) (2.9.0.post0)\n",
      "Requirement already satisfied: pytz>=2020.1 in c:\\users\\pravalika goud k\\appdata\\local\\programs\\python\\python313\\lib\\site-packages (from pandas>=1.4.0->geopandas) (2024.2)\n",
      "Requirement already satisfied: tzdata>=2022.7 in c:\\users\\pravalika goud k\\appdata\\local\\programs\\python\\python313\\lib\\site-packages (from pandas>=1.4.0->geopandas) (2024.2)\n",
      "Requirement already satisfied: certifi in c:\\users\\pravalika goud k\\appdata\\local\\programs\\python\\python313\\lib\\site-packages (from pyogrio>=0.7.2->geopandas) (2024.12.14)\n",
      "Requirement already satisfied: six>=1.5 in c:\\users\\pravalika goud k\\appdata\\local\\programs\\python\\python313\\lib\\site-packages (from python-dateutil>=2.8.2->pandas>=1.4.0->geopandas) (1.17.0)\n"
     ]
    }
   ],
   "source": [
    "!pip install geopandas"
   ]
  },
  {
   "cell_type": "code",
   "execution_count": 29,
   "id": "8c3b3f42-eacd-46b3-a6a1-cfca6769b3eb",
   "metadata": {},
   "outputs": [],
   "source": [
    "import geopandas as gpd"
   ]
  },
  {
   "cell_type": "code",
   "execution_count": 30,
   "id": "eeaf9de3-b5ec-4996-b719-baab1b073143",
   "metadata": {},
   "outputs": [
    {
     "data": {
      "text/html": [
       "<div>\n",
       "<style scoped>\n",
       "    .dataframe tbody tr th:only-of-type {\n",
       "        vertical-align: middle;\n",
       "    }\n",
       "\n",
       "    .dataframe tbody tr th {\n",
       "        vertical-align: top;\n",
       "    }\n",
       "\n",
       "    .dataframe thead th {\n",
       "        text-align: right;\n",
       "    }\n",
       "</style>\n",
       "<table border=\"1\" class=\"dataframe\">\n",
       "  <thead>\n",
       "    <tr style=\"text-align: right;\">\n",
       "      <th></th>\n",
       "      <th>st_nm</th>\n",
       "      <th>geometry</th>\n",
       "    </tr>\n",
       "  </thead>\n",
       "  <tbody>\n",
       "    <tr>\n",
       "      <th>0</th>\n",
       "      <td>Andaman and Nicobar Islands</td>\n",
       "      <td>MULTIPOLYGON (((93.84831 7.24028, 93.92705 7.0...</td>\n",
       "    </tr>\n",
       "    <tr>\n",
       "      <th>1</th>\n",
       "      <td>Arunachal Pradesh</td>\n",
       "      <td>POLYGON ((95.23643 26.68105, 95.19594 27.03612...</td>\n",
       "    </tr>\n",
       "    <tr>\n",
       "      <th>2</th>\n",
       "      <td>Assam</td>\n",
       "      <td>POLYGON ((95.19594 27.03612, 95.08795 26.94578...</td>\n",
       "    </tr>\n",
       "    <tr>\n",
       "      <th>3</th>\n",
       "      <td>Bihar</td>\n",
       "      <td>POLYGON ((88.11357 26.54028, 88.28006 26.3764,...</td>\n",
       "    </tr>\n",
       "    <tr>\n",
       "      <th>4</th>\n",
       "      <td>Chandigarh</td>\n",
       "      <td>POLYGON ((76.84208 30.76124, 76.83758 30.72552...</td>\n",
       "    </tr>\n",
       "  </tbody>\n",
       "</table>\n",
       "</div>"
      ],
      "text/plain": [
       "                         st_nm  \\\n",
       "0  Andaman and Nicobar Islands   \n",
       "1            Arunachal Pradesh   \n",
       "2                        Assam   \n",
       "3                        Bihar   \n",
       "4                   Chandigarh   \n",
       "\n",
       "                                            geometry  \n",
       "0  MULTIPOLYGON (((93.84831 7.24028, 93.92705 7.0...  \n",
       "1  POLYGON ((95.23643 26.68105, 95.19594 27.03612...  \n",
       "2  POLYGON ((95.19594 27.03612, 95.08795 26.94578...  \n",
       "3  POLYGON ((88.11357 26.54028, 88.28006 26.3764,...  \n",
       "4  POLYGON ((76.84208 30.76124, 76.83758 30.72552...  "
      ]
     },
     "execution_count": 30,
     "metadata": {},
     "output_type": "execute_result"
    }
   ],
   "source": [
    "f = (\"C:/Users/pravalika goud k/OneDrive/Desktop/projects/CRIMES NEW/india.json\")\n",
    "map_df = gpd.read_file(f)\n",
    "map_df.head()"
   ]
  },
  {
   "cell_type": "code",
   "execution_count": 33,
   "id": "0dde9446-337f-4fb8-a2d0-4610a01fa454",
   "metadata": {},
   "outputs": [
    {
     "name": "stdout",
     "output_type": "stream",
     "text": [
      "Columns in crime dataset: Index(['state_ut', 'district', 'year', 'murder', 'attempt_to_murder',\n",
      "       'culpable_homicide', 'rape', 'custodial_rape', 'other_rape',\n",
      "       'kidnapping__abduction', 'kidnapping_women_girls',\n",
      "       'kidnapping_and_abduction_of_others', 'dacoity',\n",
      "       'preparation_and_assembly_for_dacoity', 'robbery', 'burglary', 'theft',\n",
      "       'auto_theft', 'other_theft', 'riots', 'criminal_breach_of_trust',\n",
      "       'cheating', 'counterfieting', 'arson', 'hurtgrevious_hurt',\n",
      "       'dowry_deaths', 'assault_women_modesty', 'insult_women_modesty',\n",
      "       'cruelty_husband_relatives', 'importation_girls_foreign',\n",
      "       'death_negligence', 'other_ipc_crimes', 'total_ipc_crimes'],\n",
      "      dtype='object')\n",
      "Columns in GeoJSON dataset: Index(['st_nm', 'geometry', 'state_ut', 'district', 'year', 'murder',\n",
      "       'attempt_to_murder', 'culpable_homicide', 'rape', 'custodial_rape',\n",
      "       'other_rape', 'kidnapping__abduction', 'kidnapping_women_girls',\n",
      "       'kidnapping_and_abduction_of_others', 'dacoity',\n",
      "       'preparation_and_assembly_for_dacoity', 'robbery', 'burglary', 'theft',\n",
      "       'auto_theft', 'other_theft', 'riots', 'criminal_breach_of_trust',\n",
      "       'cheating', 'counterfieting', 'arson', 'hurtgrevious_hurt',\n",
      "       'dowry_deaths', 'assault_women_modesty', 'insult_women_modesty',\n",
      "       'cruelty_husband_relatives', 'importation_girls_foreign',\n",
      "       'death_negligence', 'other_ipc_crimes', 'total_ipc_crimes'],\n",
      "      dtype='object')\n"
     ]
    }
   ],
   "source": [
    "print(\"Columns in crime dataset:\", df.columns)\n",
    "print(\"Columns in GeoJSON dataset:\", map_df.columns)\n",
    "\n"
   ]
  },
  {
   "cell_type": "code",
   "execution_count": 34,
   "id": "8998d7d2-9060-4170-a0a4-6225092fea6a",
   "metadata": {},
   "outputs": [
    {
     "name": "stdout",
     "output_type": "stream",
     "text": [
      "             district  total_ipc_crimes\n",
      "753             TOTAL          23307480\n",
      "191    DELHI UT TOTAL            633174\n",
      "61   BANGALORE COMMR.            350347\n",
      "505     MUMBAI COMMR.            222670\n",
      "5    AHMEDABAD COMMR.            218005\n",
      "313            INDORE            204398\n",
      "305    HYDERABAD CITY            202931\n",
      "100            BHOPAL            169575\n",
      "145           CHENNAI            164467\n",
      "423           KOLKATA            158429\n"
     ]
    }
   ],
   "source": [
    "top_10_districts = df.groupby('district')['total_ipc_crimes'].sum().reset_index()\n",
    "top_10_districts = top_10_districts.sort_values(by='total_ipc_crimes', ascending=False).head(10)\n",
    "\n",
    "# Display the result\n",
    "print(top_10_districts)"
   ]
  },
  {
   "cell_type": "code",
   "execution_count": 44,
   "id": "45b966ed-6c03-42d7-ab2e-1c884d005605",
   "metadata": {},
   "outputs": [
    {
     "data": {
      "application/vnd.plotly.v1+json": {
       "config": {
        "plotlyServerURL": "https://plot.ly"
       },
       "data": [
        {
         "alignmentgroup": "True",
         "hovertemplate": "total_ipc_crimes=%{x}<br>district=%{y}<extra></extra>",
         "legendgroup": "",
         "marker": {
          "color": "red",
          "pattern": {
           "shape": ""
          }
         },
         "name": "",
         "offsetgroup": "",
         "orientation": "h",
         "showlegend": false,
         "textposition": "auto",
         "type": "bar",
         "x": [
          633174,
          350347,
          222670,
          218005,
          204398,
          202931,
          169575,
          164467,
          158429
         ],
         "xaxis": "x",
         "y": [
          "DELHI UT TOTAL",
          "BANGALORE COMMR.",
          "MUMBAI COMMR.",
          "AHMEDABAD COMMR.",
          "INDORE",
          "HYDERABAD CITY",
          "BHOPAL",
          "CHENNAI",
          "KOLKATA"
         ],
         "yaxis": "y"
        }
       ],
       "layout": {
        "barmode": "relative",
        "legend": {
         "tracegroupgap": 0
        },
        "margin": {
         "t": 60
        },
        "template": {
         "data": {
          "bar": [
           {
            "error_x": {
             "color": "#f2f5fa"
            },
            "error_y": {
             "color": "#f2f5fa"
            },
            "marker": {
             "line": {
              "color": "rgb(17,17,17)",
              "width": 0.5
             },
             "pattern": {
              "fillmode": "overlay",
              "size": 10,
              "solidity": 0.2
             }
            },
            "type": "bar"
           }
          ],
          "barpolar": [
           {
            "marker": {
             "line": {
              "color": "rgb(17,17,17)",
              "width": 0.5
             },
             "pattern": {
              "fillmode": "overlay",
              "size": 10,
              "solidity": 0.2
             }
            },
            "type": "barpolar"
           }
          ],
          "carpet": [
           {
            "aaxis": {
             "endlinecolor": "#A2B1C6",
             "gridcolor": "#506784",
             "linecolor": "#506784",
             "minorgridcolor": "#506784",
             "startlinecolor": "#A2B1C6"
            },
            "baxis": {
             "endlinecolor": "#A2B1C6",
             "gridcolor": "#506784",
             "linecolor": "#506784",
             "minorgridcolor": "#506784",
             "startlinecolor": "#A2B1C6"
            },
            "type": "carpet"
           }
          ],
          "choropleth": [
           {
            "colorbar": {
             "outlinewidth": 0,
             "ticks": ""
            },
            "type": "choropleth"
           }
          ],
          "contour": [
           {
            "colorbar": {
             "outlinewidth": 0,
             "ticks": ""
            },
            "colorscale": [
             [
              0,
              "#0d0887"
             ],
             [
              0.1111111111111111,
              "#46039f"
             ],
             [
              0.2222222222222222,
              "#7201a8"
             ],
             [
              0.3333333333333333,
              "#9c179e"
             ],
             [
              0.4444444444444444,
              "#bd3786"
             ],
             [
              0.5555555555555556,
              "#d8576b"
             ],
             [
              0.6666666666666666,
              "#ed7953"
             ],
             [
              0.7777777777777778,
              "#fb9f3a"
             ],
             [
              0.8888888888888888,
              "#fdca26"
             ],
             [
              1,
              "#f0f921"
             ]
            ],
            "type": "contour"
           }
          ],
          "contourcarpet": [
           {
            "colorbar": {
             "outlinewidth": 0,
             "ticks": ""
            },
            "type": "contourcarpet"
           }
          ],
          "heatmap": [
           {
            "colorbar": {
             "outlinewidth": 0,
             "ticks": ""
            },
            "colorscale": [
             [
              0,
              "#0d0887"
             ],
             [
              0.1111111111111111,
              "#46039f"
             ],
             [
              0.2222222222222222,
              "#7201a8"
             ],
             [
              0.3333333333333333,
              "#9c179e"
             ],
             [
              0.4444444444444444,
              "#bd3786"
             ],
             [
              0.5555555555555556,
              "#d8576b"
             ],
             [
              0.6666666666666666,
              "#ed7953"
             ],
             [
              0.7777777777777778,
              "#fb9f3a"
             ],
             [
              0.8888888888888888,
              "#fdca26"
             ],
             [
              1,
              "#f0f921"
             ]
            ],
            "type": "heatmap"
           }
          ],
          "heatmapgl": [
           {
            "colorbar": {
             "outlinewidth": 0,
             "ticks": ""
            },
            "colorscale": [
             [
              0,
              "#0d0887"
             ],
             [
              0.1111111111111111,
              "#46039f"
             ],
             [
              0.2222222222222222,
              "#7201a8"
             ],
             [
              0.3333333333333333,
              "#9c179e"
             ],
             [
              0.4444444444444444,
              "#bd3786"
             ],
             [
              0.5555555555555556,
              "#d8576b"
             ],
             [
              0.6666666666666666,
              "#ed7953"
             ],
             [
              0.7777777777777778,
              "#fb9f3a"
             ],
             [
              0.8888888888888888,
              "#fdca26"
             ],
             [
              1,
              "#f0f921"
             ]
            ],
            "type": "heatmapgl"
           }
          ],
          "histogram": [
           {
            "marker": {
             "pattern": {
              "fillmode": "overlay",
              "size": 10,
              "solidity": 0.2
             }
            },
            "type": "histogram"
           }
          ],
          "histogram2d": [
           {
            "colorbar": {
             "outlinewidth": 0,
             "ticks": ""
            },
            "colorscale": [
             [
              0,
              "#0d0887"
             ],
             [
              0.1111111111111111,
              "#46039f"
             ],
             [
              0.2222222222222222,
              "#7201a8"
             ],
             [
              0.3333333333333333,
              "#9c179e"
             ],
             [
              0.4444444444444444,
              "#bd3786"
             ],
             [
              0.5555555555555556,
              "#d8576b"
             ],
             [
              0.6666666666666666,
              "#ed7953"
             ],
             [
              0.7777777777777778,
              "#fb9f3a"
             ],
             [
              0.8888888888888888,
              "#fdca26"
             ],
             [
              1,
              "#f0f921"
             ]
            ],
            "type": "histogram2d"
           }
          ],
          "histogram2dcontour": [
           {
            "colorbar": {
             "outlinewidth": 0,
             "ticks": ""
            },
            "colorscale": [
             [
              0,
              "#0d0887"
             ],
             [
              0.1111111111111111,
              "#46039f"
             ],
             [
              0.2222222222222222,
              "#7201a8"
             ],
             [
              0.3333333333333333,
              "#9c179e"
             ],
             [
              0.4444444444444444,
              "#bd3786"
             ],
             [
              0.5555555555555556,
              "#d8576b"
             ],
             [
              0.6666666666666666,
              "#ed7953"
             ],
             [
              0.7777777777777778,
              "#fb9f3a"
             ],
             [
              0.8888888888888888,
              "#fdca26"
             ],
             [
              1,
              "#f0f921"
             ]
            ],
            "type": "histogram2dcontour"
           }
          ],
          "mesh3d": [
           {
            "colorbar": {
             "outlinewidth": 0,
             "ticks": ""
            },
            "type": "mesh3d"
           }
          ],
          "parcoords": [
           {
            "line": {
             "colorbar": {
              "outlinewidth": 0,
              "ticks": ""
             }
            },
            "type": "parcoords"
           }
          ],
          "pie": [
           {
            "automargin": true,
            "type": "pie"
           }
          ],
          "scatter": [
           {
            "marker": {
             "line": {
              "color": "#283442"
             }
            },
            "type": "scatter"
           }
          ],
          "scatter3d": [
           {
            "line": {
             "colorbar": {
              "outlinewidth": 0,
              "ticks": ""
             }
            },
            "marker": {
             "colorbar": {
              "outlinewidth": 0,
              "ticks": ""
             }
            },
            "type": "scatter3d"
           }
          ],
          "scattercarpet": [
           {
            "marker": {
             "colorbar": {
              "outlinewidth": 0,
              "ticks": ""
             }
            },
            "type": "scattercarpet"
           }
          ],
          "scattergeo": [
           {
            "marker": {
             "colorbar": {
              "outlinewidth": 0,
              "ticks": ""
             }
            },
            "type": "scattergeo"
           }
          ],
          "scattergl": [
           {
            "marker": {
             "line": {
              "color": "#283442"
             }
            },
            "type": "scattergl"
           }
          ],
          "scattermapbox": [
           {
            "marker": {
             "colorbar": {
              "outlinewidth": 0,
              "ticks": ""
             }
            },
            "type": "scattermapbox"
           }
          ],
          "scatterpolar": [
           {
            "marker": {
             "colorbar": {
              "outlinewidth": 0,
              "ticks": ""
             }
            },
            "type": "scatterpolar"
           }
          ],
          "scatterpolargl": [
           {
            "marker": {
             "colorbar": {
              "outlinewidth": 0,
              "ticks": ""
             }
            },
            "type": "scatterpolargl"
           }
          ],
          "scatterternary": [
           {
            "marker": {
             "colorbar": {
              "outlinewidth": 0,
              "ticks": ""
             }
            },
            "type": "scatterternary"
           }
          ],
          "surface": [
           {
            "colorbar": {
             "outlinewidth": 0,
             "ticks": ""
            },
            "colorscale": [
             [
              0,
              "#0d0887"
             ],
             [
              0.1111111111111111,
              "#46039f"
             ],
             [
              0.2222222222222222,
              "#7201a8"
             ],
             [
              0.3333333333333333,
              "#9c179e"
             ],
             [
              0.4444444444444444,
              "#bd3786"
             ],
             [
              0.5555555555555556,
              "#d8576b"
             ],
             [
              0.6666666666666666,
              "#ed7953"
             ],
             [
              0.7777777777777778,
              "#fb9f3a"
             ],
             [
              0.8888888888888888,
              "#fdca26"
             ],
             [
              1,
              "#f0f921"
             ]
            ],
            "type": "surface"
           }
          ],
          "table": [
           {
            "cells": {
             "fill": {
              "color": "#506784"
             },
             "line": {
              "color": "rgb(17,17,17)"
             }
            },
            "header": {
             "fill": {
              "color": "#2a3f5f"
             },
             "line": {
              "color": "rgb(17,17,17)"
             }
            },
            "type": "table"
           }
          ]
         },
         "layout": {
          "annotationdefaults": {
           "arrowcolor": "#f2f5fa",
           "arrowhead": 0,
           "arrowwidth": 1
          },
          "autotypenumbers": "strict",
          "coloraxis": {
           "colorbar": {
            "outlinewidth": 0,
            "ticks": ""
           }
          },
          "colorscale": {
           "diverging": [
            [
             0,
             "#8e0152"
            ],
            [
             0.1,
             "#c51b7d"
            ],
            [
             0.2,
             "#de77ae"
            ],
            [
             0.3,
             "#f1b6da"
            ],
            [
             0.4,
             "#fde0ef"
            ],
            [
             0.5,
             "#f7f7f7"
            ],
            [
             0.6,
             "#e6f5d0"
            ],
            [
             0.7,
             "#b8e186"
            ],
            [
             0.8,
             "#7fbc41"
            ],
            [
             0.9,
             "#4d9221"
            ],
            [
             1,
             "#276419"
            ]
           ],
           "sequential": [
            [
             0,
             "#0d0887"
            ],
            [
             0.1111111111111111,
             "#46039f"
            ],
            [
             0.2222222222222222,
             "#7201a8"
            ],
            [
             0.3333333333333333,
             "#9c179e"
            ],
            [
             0.4444444444444444,
             "#bd3786"
            ],
            [
             0.5555555555555556,
             "#d8576b"
            ],
            [
             0.6666666666666666,
             "#ed7953"
            ],
            [
             0.7777777777777778,
             "#fb9f3a"
            ],
            [
             0.8888888888888888,
             "#fdca26"
            ],
            [
             1,
             "#f0f921"
            ]
           ],
           "sequentialminus": [
            [
             0,
             "#0d0887"
            ],
            [
             0.1111111111111111,
             "#46039f"
            ],
            [
             0.2222222222222222,
             "#7201a8"
            ],
            [
             0.3333333333333333,
             "#9c179e"
            ],
            [
             0.4444444444444444,
             "#bd3786"
            ],
            [
             0.5555555555555556,
             "#d8576b"
            ],
            [
             0.6666666666666666,
             "#ed7953"
            ],
            [
             0.7777777777777778,
             "#fb9f3a"
            ],
            [
             0.8888888888888888,
             "#fdca26"
            ],
            [
             1,
             "#f0f921"
            ]
           ]
          },
          "colorway": [
           "#636efa",
           "#EF553B",
           "#00cc96",
           "#ab63fa",
           "#FFA15A",
           "#19d3f3",
           "#FF6692",
           "#B6E880",
           "#FF97FF",
           "#FECB52"
          ],
          "font": {
           "color": "#f2f5fa"
          },
          "geo": {
           "bgcolor": "rgb(17,17,17)",
           "lakecolor": "rgb(17,17,17)",
           "landcolor": "rgb(17,17,17)",
           "showlakes": true,
           "showland": true,
           "subunitcolor": "#506784"
          },
          "hoverlabel": {
           "align": "left"
          },
          "hovermode": "closest",
          "mapbox": {
           "style": "dark"
          },
          "paper_bgcolor": "rgb(17,17,17)",
          "plot_bgcolor": "rgb(17,17,17)",
          "polar": {
           "angularaxis": {
            "gridcolor": "#506784",
            "linecolor": "#506784",
            "ticks": ""
           },
           "bgcolor": "rgb(17,17,17)",
           "radialaxis": {
            "gridcolor": "#506784",
            "linecolor": "#506784",
            "ticks": ""
           }
          },
          "scene": {
           "xaxis": {
            "backgroundcolor": "rgb(17,17,17)",
            "gridcolor": "#506784",
            "gridwidth": 2,
            "linecolor": "#506784",
            "showbackground": true,
            "ticks": "",
            "zerolinecolor": "#C8D4E3"
           },
           "yaxis": {
            "backgroundcolor": "rgb(17,17,17)",
            "gridcolor": "#506784",
            "gridwidth": 2,
            "linecolor": "#506784",
            "showbackground": true,
            "ticks": "",
            "zerolinecolor": "#C8D4E3"
           },
           "zaxis": {
            "backgroundcolor": "rgb(17,17,17)",
            "gridcolor": "#506784",
            "gridwidth": 2,
            "linecolor": "#506784",
            "showbackground": true,
            "ticks": "",
            "zerolinecolor": "#C8D4E3"
           }
          },
          "shapedefaults": {
           "line": {
            "color": "#f2f5fa"
           }
          },
          "sliderdefaults": {
           "bgcolor": "#C8D4E3",
           "bordercolor": "rgb(17,17,17)",
           "borderwidth": 1,
           "tickwidth": 0
          },
          "ternary": {
           "aaxis": {
            "gridcolor": "#506784",
            "linecolor": "#506784",
            "ticks": ""
           },
           "baxis": {
            "gridcolor": "#506784",
            "linecolor": "#506784",
            "ticks": ""
           },
           "bgcolor": "rgb(17,17,17)",
           "caxis": {
            "gridcolor": "#506784",
            "linecolor": "#506784",
            "ticks": ""
           }
          },
          "title": {
           "x": 0.05
          },
          "updatemenudefaults": {
           "bgcolor": "#506784",
           "borderwidth": 0
          },
          "xaxis": {
           "automargin": true,
           "gridcolor": "#283442",
           "linecolor": "#506784",
           "ticks": "",
           "title": {
            "standoff": 15
           },
           "zerolinecolor": "#283442",
           "zerolinewidth": 2
          },
          "yaxis": {
           "automargin": true,
           "gridcolor": "#283442",
           "linecolor": "#506784",
           "ticks": "",
           "title": {
            "standoff": 15
           },
           "zerolinecolor": "#283442",
           "zerolinewidth": 2
          }
         }
        },
        "title": {
         "text": "Top 10 districts with highest number of IPC crimes over (2000-2012)"
        },
        "xaxis": {
         "anchor": "y",
         "domain": [
          0,
          1
         ],
         "title": {
          "text": "total_ipc_crimes"
         }
        },
        "yaxis": {
         "anchor": "x",
         "autorange": "reversed",
         "domain": [
          0,
          1
         ],
         "title": {
          "text": "district"
         }
        }
       }
      },
      "image/png": "[encoded data removed]",
      "text/html": [
       "<div>                            <div id=\"54279f0d-254e-4adb-b1c3-63cebc575f97\" class=\"plotly-graph-div\" style=\"height:525px; width:100%;\"></div>            <script type=\"text/javascript\">                require([\"plotly\"], function(Plotly) {                    window.PLOTLYENV=window.PLOTLYENV || {};                                    if (document.getElementById(\"54279f0d-254e-4adb-b1c3-63cebc575f97\")) {                    Plotly.newPlot(                        \"54279f0d-254e-4adb-b1c3-63cebc575f97\",                        [{\"alignmentgroup\":\"True\",\"hovertemplate\":\"total_ipc_crimes=%{x}\\u003cbr\\u003edistrict=%{y}\\u003cextra\\u003e\\u003c\\u002fextra\\u003e\",\"legendgroup\":\"\",\"marker\":{\"color\":\"red\",\"pattern\":{\"shape\":\"\"}},\"name\":\"\",\"offsetgroup\":\"\",\"orientation\":\"h\",\"showlegend\":false,\"textposition\":\"auto\",\"x\":[633174,350347,222670,218005,204398,202931,169575,164467,158429],\"xaxis\":\"x\",\"y\":[\"DELHI UT TOTAL\",\"BANGALORE COMMR.\",\"MUMBAI COMMR.\",\"AHMEDABAD COMMR.\",\"INDORE\",\"HYDERABAD CITY\",\"BHOPAL\",\"CHENNAI\",\"KOLKATA\"],\"yaxis\":\"y\",\"type\":\"bar\"}],                        {\"template\":{\"data\":{\"barpolar\":[{\"marker\":{\"line\":{\"color\":\"rgb(17,17,17)\",\"width\":0.5},\"pattern\":{\"fillmode\":\"overlay\",\"size\":10,\"solidity\":0.2}},\"type\":\"barpolar\"}],\"bar\":[{\"error_x\":{\"color\":\"#f2f5fa\"},\"error_y\":{\"color\":\"#f2f5fa\"},\"marker\":{\"line\":{\"color\":\"rgb(17,17,17)\",\"width\":0.5},\"pattern\":{\"fillmode\":\"overlay\",\"size\":10,\"solidity\":0.2}},\"type\":\"bar\"}],\"carpet\":[{\"aaxis\":{\"endlinecolor\":\"#A2B1C6\",\"gridcolor\":\"#506784\",\"linecolor\":\"#506784\",\"minorgridcolor\":\"#506784\",\"startlinecolor\":\"#A2B1C6\"},\"baxis\":{\"endlinecolor\":\"#A2B1C6\",\"gridcolor\":\"#506784\",\"linecolor\":\"#506784\",\"minorgridcolor\":\"#506784\",\"startlinecolor\":\"#A2B1C6\"},\"type\":\"carpet\"}],\"choropleth\":[{\"colorbar\":{\"outlinewidth\":0,\"ticks\":\"\"},\"type\":\"choropleth\"}],\"contourcarpet\":[{\"colorbar\":{\"outlinewidth\":0,\"ticks\":\"\"},\"type\":\"contourcarpet\"}],\"contour\":[{\"colorbar\":{\"outlinewidth\":0,\"ticks\":\"\"},\"colorscale\":[[0.0,\"#0d0887\"],[0.1111111111111111,\"#46039f\"],[0.2222222222222222,\"#7201a8\"],[0.3333333333333333,\"#9c179e\"],[0.4444444444444444,\"#bd3786\"],[0.5555555555555556,\"#d8576b\"],[0.6666666666666666,\"#ed7953\"],[0.7777777777777778,\"#fb9f3a\"],[0.8888888888888888,\"#fdca26\"],[1.0,\"#f0f921\"]],\"type\":\"contour\"}],\"heatmapgl\":[{\"colorbar\":{\"outlinewidth\":0,\"ticks\":\"\"},\"colorscale\":[[0.0,\"#0d0887\"],[0.1111111111111111,\"#46039f\"],[0.2222222222222222,\"#7201a8\"],[0.3333333333333333,\"#9c179e\"],[0.4444444444444444,\"#bd3786\"],[0.5555555555555556,\"#d8576b\"],[0.6666666666666666,\"#ed7953\"],[0.7777777777777778,\"#fb9f3a\"],[0.8888888888888888,\"#fdca26\"],[1.0,\"#f0f921\"]],\"type\":\"heatmapgl\"}],\"heatmap\":[{\"colorbar\":{\"outlinewidth\":0,\"ticks\":\"\"},\"colorscale\":[[0.0,\"#0d0887\"],[0.1111111111111111,\"#46039f\"],[0.2222222222222222,\"#7201a8\"],[0.3333333333333333,\"#9c179e\"],[0.4444444444444444,\"#bd3786\"],[0.5555555555555556,\"#d8576b\"],[0.6666666666666666,\"#ed7953\"],[0.7777777777777778,\"#fb9f3a\"],[0.8888888888888888,\"#fdca26\"],[1.0,\"#f0f921\"]],\"type\":\"heatmap\"}],\"histogram2dcontour\":[{\"colorbar\":{\"outlinewidth\":0,\"ticks\":\"\"},\"colorscale\":[[0.0,\"#0d0887\"],[0.1111111111111111,\"#46039f\"],[0.2222222222222222,\"#7201a8\"],[0.3333333333333333,\"#9c179e\"],[0.4444444444444444,\"#bd3786\"],[0.5555555555555556,\"#d8576b\"],[0.6666666666666666,\"#ed7953\"],[0.7777777777777778,\"#fb9f3a\"],[0.8888888888888888,\"#fdca26\"],[1.0,\"#f0f921\"]],\"type\":\"histogram2dcontour\"}],\"histogram2d\":[{\"colorbar\":{\"outlinewidth\":0,\"ticks\":\"\"},\"colorscale\":[[0.0,\"#0d0887\"],[0.1111111111111111,\"#46039f\"],[0.2222222222222222,\"#7201a8\"],[0.3333333333333333,\"#9c179e\"],[0.4444444444444444,\"#bd3786\"],[0.5555555555555556,\"#d8576b\"],[0.6666666666666666,\"#ed7953\"],[0.7777777777777778,\"#fb9f3a\"],[0.8888888888888888,\"#fdca26\"],[1.0,\"#f0f921\"]],\"type\":\"histogram2d\"}],\"histogram\":[{\"marker\":{\"pattern\":{\"fillmode\":\"overlay\",\"size\":10,\"solidity\":0.2}},\"type\":\"histogram\"}],\"mesh3d\":[{\"colorbar\":{\"outlinewidth\":0,\"ticks\":\"\"},\"type\":\"mesh3d\"}],\"parcoords\":[{\"line\":{\"colorbar\":{\"outlinewidth\":0,\"ticks\":\"\"}},\"type\":\"parcoords\"}],\"pie\":[{\"automargin\":true,\"type\":\"pie\"}],\"scatter3d\":[{\"line\":{\"colorbar\":{\"outlinewidth\":0,\"ticks\":\"\"}},\"marker\":{\"colorbar\":{\"outlinewidth\":0,\"ticks\":\"\"}},\"type\":\"scatter3d\"}],\"scattercarpet\":[{\"marker\":{\"colorbar\":{\"outlinewidth\":0,\"ticks\":\"\"}},\"type\":\"scattercarpet\"}],\"scattergeo\":[{\"marker\":{\"colorbar\":{\"outlinewidth\":0,\"ticks\":\"\"}},\"type\":\"scattergeo\"}],\"scattergl\":[{\"marker\":{\"line\":{\"color\":\"#283442\"}},\"type\":\"scattergl\"}],\"scattermapbox\":[{\"marker\":{\"colorbar\":{\"outlinewidth\":0,\"ticks\":\"\"}},\"type\":\"scattermapbox\"}],\"scatterpolargl\":[{\"marker\":{\"colorbar\":{\"outlinewidth\":0,\"ticks\":\"\"}},\"type\":\"scatterpolargl\"}],\"scatterpolar\":[{\"marker\":{\"colorbar\":{\"outlinewidth\":0,\"ticks\":\"\"}},\"type\":\"scatterpolar\"}],\"scatter\":[{\"marker\":{\"line\":{\"color\":\"#283442\"}},\"type\":\"scatter\"}],\"scatterternary\":[{\"marker\":{\"colorbar\":{\"outlinewidth\":0,\"ticks\":\"\"}},\"type\":\"scatterternary\"}],\"surface\":[{\"colorbar\":{\"outlinewidth\":0,\"ticks\":\"\"},\"colorscale\":[[0.0,\"#0d0887\"],[0.1111111111111111,\"#46039f\"],[0.2222222222222222,\"#7201a8\"],[0.3333333333333333,\"#9c179e\"],[0.4444444444444444,\"#bd3786\"],[0.5555555555555556,\"#d8576b\"],[0.6666666666666666,\"#ed7953\"],[0.7777777777777778,\"#fb9f3a\"],[0.8888888888888888,\"#fdca26\"],[1.0,\"#f0f921\"]],\"type\":\"surface\"}],\"table\":[{\"cells\":{\"fill\":{\"color\":\"#506784\"},\"line\":{\"color\":\"rgb(17,17,17)\"}},\"header\":{\"fill\":{\"color\":\"#2a3f5f\"},\"line\":{\"color\":\"rgb(17,17,17)\"}},\"type\":\"table\"}]},\"layout\":{\"annotationdefaults\":{\"arrowcolor\":\"#f2f5fa\",\"arrowhead\":0,\"arrowwidth\":1},\"autotypenumbers\":\"strict\",\"coloraxis\":{\"colorbar\":{\"outlinewidth\":0,\"ticks\":\"\"}},\"colorscale\":{\"diverging\":[[0,\"#8e0152\"],[0.1,\"#c51b7d\"],[0.2,\"#de77ae\"],[0.3,\"#f1b6da\"],[0.4,\"#fde0ef\"],[0.5,\"#f7f7f7\"],[0.6,\"#e6f5d0\"],[0.7,\"#b8e186\"],[0.8,\"#7fbc41\"],[0.9,\"#4d9221\"],[1,\"#276419\"]],\"sequential\":[[0.0,\"#0d0887\"],[0.1111111111111111,\"#46039f\"],[0.2222222222222222,\"#7201a8\"],[0.3333333333333333,\"#9c179e\"],[0.4444444444444444,\"#bd3786\"],[0.5555555555555556,\"#d8576b\"],[0.6666666666666666,\"#ed7953\"],[0.7777777777777778,\"#fb9f3a\"],[0.8888888888888888,\"#fdca26\"],[1.0,\"#f0f921\"]],\"sequentialminus\":[[0.0,\"#0d0887\"],[0.1111111111111111,\"#46039f\"],[0.2222222222222222,\"#7201a8\"],[0.3333333333333333,\"#9c179e\"],[0.4444444444444444,\"#bd3786\"],[0.5555555555555556,\"#d8576b\"],[0.6666666666666666,\"#ed7953\"],[0.7777777777777778,\"#fb9f3a\"],[0.8888888888888888,\"#fdca26\"],[1.0,\"#f0f921\"]]},\"colorway\":[\"#636efa\",\"#EF553B\",\"#00cc96\",\"#ab63fa\",\"#FFA15A\",\"#19d3f3\",\"#FF6692\",\"#B6E880\",\"#FF97FF\",\"#FECB52\"],\"font\":{\"color\":\"#f2f5fa\"},\"geo\":{\"bgcolor\":\"rgb(17,17,17)\",\"lakecolor\":\"rgb(17,17,17)\",\"landcolor\":\"rgb(17,17,17)\",\"showlakes\":true,\"showland\":true,\"subunitcolor\":\"#506784\"},\"hoverlabel\":{\"align\":\"left\"},\"hovermode\":\"closest\",\"mapbox\":{\"style\":\"dark\"},\"paper_bgcolor\":\"rgb(17,17,17)\",\"plot_bgcolor\":\"rgb(17,17,17)\",\"polar\":{\"angularaxis\":{\"gridcolor\":\"#506784\",\"linecolor\":\"#506784\",\"ticks\":\"\"},\"bgcolor\":\"rgb(17,17,17)\",\"radialaxis\":{\"gridcolor\":\"#506784\",\"linecolor\":\"#506784\",\"ticks\":\"\"}},\"scene\":{\"xaxis\":{\"backgroundcolor\":\"rgb(17,17,17)\",\"gridcolor\":\"#506784\",\"gridwidth\":2,\"linecolor\":\"#506784\",\"showbackground\":true,\"ticks\":\"\",\"zerolinecolor\":\"#C8D4E3\"},\"yaxis\":{\"backgroundcolor\":\"rgb(17,17,17)\",\"gridcolor\":\"#506784\",\"gridwidth\":2,\"linecolor\":\"#506784\",\"showbackground\":true,\"ticks\":\"\",\"zerolinecolor\":\"#C8D4E3\"},\"zaxis\":{\"backgroundcolor\":\"rgb(17,17,17)\",\"gridcolor\":\"#506784\",\"gridwidth\":2,\"linecolor\":\"#506784\",\"showbackground\":true,\"ticks\":\"\",\"zerolinecolor\":\"#C8D4E3\"}},\"shapedefaults\":{\"line\":{\"color\":\"#f2f5fa\"}},\"sliderdefaults\":{\"bgcolor\":\"#C8D4E3\",\"bordercolor\":\"rgb(17,17,17)\",\"borderwidth\":1,\"tickwidth\":0},\"ternary\":{\"aaxis\":{\"gridcolor\":\"#506784\",\"linecolor\":\"#506784\",\"ticks\":\"\"},\"baxis\":{\"gridcolor\":\"#506784\",\"linecolor\":\"#506784\",\"ticks\":\"\"},\"bgcolor\":\"rgb(17,17,17)\",\"caxis\":{\"gridcolor\":\"#506784\",\"linecolor\":\"#506784\",\"ticks\":\"\"}},\"title\":{\"x\":0.05},\"updatemenudefaults\":{\"bgcolor\":\"#506784\",\"borderwidth\":0},\"xaxis\":{\"automargin\":true,\"gridcolor\":\"#283442\",\"linecolor\":\"#506784\",\"ticks\":\"\",\"title\":{\"standoff\":15},\"zerolinecolor\":\"#283442\",\"zerolinewidth\":2},\"yaxis\":{\"automargin\":true,\"gridcolor\":\"#283442\",\"linecolor\":\"#506784\",\"ticks\":\"\",\"title\":{\"standoff\":15},\"zerolinecolor\":\"#283442\",\"zerolinewidth\":2}}},\"xaxis\":{\"anchor\":\"y\",\"domain\":[0.0,1.0],\"title\":{\"text\":\"total_ipc_crimes\"}},\"yaxis\":{\"anchor\":\"x\",\"domain\":[0.0,1.0],\"title\":{\"text\":\"district\"},\"autorange\":\"reversed\"},\"legend\":{\"tracegroupgap\":0},\"margin\":{\"t\":60},\"barmode\":\"relative\",\"title\":{\"text\":\"Top 10 districts with highest number of IPC crimes over (2000-2012)\"}},                        {\"responsive\": true}                    ).then(function(){\n",
       "                            \n",
       "var gd = document.getElementById('54279f0d-254e-4adb-b1c3-63cebc575f97');\n",
       "var x = new MutationObserver(function (mutations, observer) {{\n",
       "        var display = window.getComputedStyle(gd).display;\n",
       "        if (!display || display === 'none') {{\n",
       "            console.log([gd, 'removed!']);\n",
       "            Plotly.purge(gd);\n",
       "            observer.disconnect();\n",
       "        }}\n",
       "}});\n",
       "\n",
       "// Listen for the removal of the full notebook cells\n",
       "var notebookContainer = gd.closest('#notebook-container');\n",
       "if (notebookContainer) {{\n",
       "    x.observe(notebookContainer, {childList: true});\n",
       "}}\n",
       "\n",
       "// Listen for the clearing of the current output cell\n",
       "var outputEl = gd.closest('.output');\n",
       "if (outputEl) {{\n",
       "    x.observe(outputEl, {childList: true});\n",
       "}}\n",
       "\n",
       "                        })                };                });            </script>        </div>"
      ]
     },
     "metadata": {},
     "output_type": "display_data"
    }
   ],
   "source": [
    "# Create the bar chart\n",
    "fig = px.bar(\n",
    "    data_frame=top_10_districts, \n",
    "    x=\"total_ipc_crimes\", \n",
    "    y=\"district\", \n",
    "    orientation='h', \n",
    "    color_discrete_sequence=[\"red\"]\n",
    ")\n",
    "\n",
    "# Update layout settings\n",
    "fig.update_layout(yaxis=dict(autorange=\"reversed\"))\n",
    "fig.update_layout(title=\"Top 10 districts with highest number of IPC crimes over (2000-2012)\")\n",
    "fig.layout.template = \"plotly_dark\"\n",
    "\n",
    "# Show the plot\n",
    "fig.show()"
   ]
  }
 ],
 "metadata": {
  "kernelspec": {
   "display_name": "Python 3 (ipykernel)",
   "language": "python",
   "name": "python3"
  },
  "language_info": {
   "codemirror_mode": {
    "name": "ipython",
    "version": 3
   },
   "file_extension": ".py",
   "mimetype": "text/x-python",
   "name": "python",
   "nbconvert_exporter": "python",
   "pygments_lexer": "ipython3",
   "version": "3.13.1"
  }
 },
 "nbformat": 4,
 "nbformat_minor": 5
}
